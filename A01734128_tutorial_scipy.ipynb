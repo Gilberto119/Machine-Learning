{
  "nbformat": 4,
  "nbformat_minor": 0,
  "metadata": {
    "colab": {
      "name": "2_tutorial scipy.ipynb",
      "provenance": [],
      "include_colab_link": true
    },
    "kernelspec": {
      "name": "python3",
      "display_name": "Python 3"
    },
    "language_info": {
      "name": "python"
    }
  },
  "cells": [
    {
      "cell_type": "markdown",
      "metadata": {
        "id": "view-in-github",
        "colab_type": "text"
      },
      "source": [
        "<a href=\"https://colab.research.google.com/github/Gilberto119/Machine-Learning/blob/work/A01734128_tutorial_scipy.ipynb\" target=\"_parent\"><img src=\"https://colab.research.google.com/assets/colab-badge.svg\" alt=\"Open In Colab\"/></a>"
      ]
    },
    {
      "cell_type": "markdown",
      "source": [
        "Most examples in this notebook were taken from this [SciPy in Python Tutorial](https://www.guru99.com/scipy-tutorial.html) by Steve Campbell and adapted by Benjamín Valdés for TC3006."
      ],
      "metadata": {
        "id": "5GPQC5oOIrJT"
      }
    },
    {
      "cell_type": "markdown",
      "source": [
        "The standard way to import SciPy modules and Numpy:\n"
      ],
      "metadata": {
        "id": "XjeEWOl2Hiya"
      }
    },
    {
      "cell_type": "code",
      "execution_count": null,
      "metadata": {
        "id": "qXVYU5RzHdq_"
      },
      "outputs": [],
      "source": [
        "from scipy import special   # Same for other modules\n",
        "import numpy as np"
      ]
    },
    {
      "cell_type": "markdown",
      "source": [
        "Cubic Root function finds the cube root of values.\n"
      ],
      "metadata": {
        "id": "ZRzFJLjUHiSL"
      }
    },
    {
      "cell_type": "code",
      "source": [
        "cb = special.cbrt([27, 64])\n",
        "\n",
        "print(cb)"
      ],
      "metadata": {
        "colab": {
          "base_uri": "https://localhost:8080/"
        },
        "id": "Wo5lLvtnHiLr",
        "outputId": "9d4dae86-3784-4b89-d1e6-eb80b6e299a9"
      },
      "execution_count": null,
      "outputs": [
        {
          "output_type": "stream",
          "name": "stdout",
          "text": [
            "[3. 4.]\n"
          ]
        }
      ]
    },
    {
      "cell_type": "markdown",
      "source": [
        "Exponential function computes the 10**x element-wise."
      ],
      "metadata": {
        "id": "N1-ow6UMHiFF"
      }
    },
    {
      "cell_type": "code",
      "source": [
        "from scipy.special import exp10\n",
        "\n",
        "exp = exp10([1,10]) # Define exp10 function and pass value \n",
        "print(exp)"
      ],
      "metadata": {
        "colab": {
          "base_uri": "https://localhost:8080/"
        },
        "id": "4acJnTwOHh90",
        "outputId": "00ffd57f-c75f-45c3-cd6b-c5cff0a43944"
      },
      "execution_count": null,
      "outputs": [
        {
          "output_type": "stream",
          "name": "stdout",
          "text": [
            "[1.e+01 1.e+10]\n"
          ]
        }
      ]
    },
    {
      "cell_type": "code",
      "source": [
        ""
      ],
      "metadata": {
        "id": "cthny4FBTGay"
      },
      "execution_count": null,
      "outputs": []
    },
    {
      "cell_type": "markdown",
      "source": [
        "SciPy also gives functionality to calculate Permutations and Combinations."
      ],
      "metadata": {
        "id": "36k2jWQoHh1s"
      }
    },
    {
      "cell_type": "code",
      "source": [
        "from scipy.special import comb\n",
        "\n",
        "# Find combinations of 5, 2 values using comb(N, k)\n",
        "com = comb(5, 2, exact = False, repetition=True)\n",
        "print(com)"
      ],
      "metadata": {
        "colab": {
          "base_uri": "https://localhost:8080/"
        },
        "id": "akp1Em3WHhuV",
        "outputId": "3d217418-6463-4104-8d45-28459fd97d9a"
      },
      "execution_count": null,
      "outputs": [
        {
          "output_type": "stream",
          "name": "stdout",
          "text": [
            "15.0\n"
          ]
        }
      ]
    },
    {
      "cell_type": "markdown",
      "source": [
        "Permutations"
      ],
      "metadata": {
        "id": "M_AJXV9rHhnv"
      }
    },
    {
      "cell_type": "code",
      "source": [
        "from scipy.special import perm\n",
        "\n",
        "per = perm(5, 2, exact = True) # Find permutation of 5, 2 using perm (N, k)\n",
        "\n",
        "print(per)"
      ],
      "metadata": {
        "colab": {
          "base_uri": "https://localhost:8080/"
        },
        "id": "R9f8ocmmHhhB",
        "outputId": "990d4cfa-371f-470c-d054-83246fdbd534"
      },
      "execution_count": null,
      "outputs": [
        {
          "output_type": "stream",
          "name": "stdout",
          "text": [
            "20\n"
          ]
        }
      ]
    },
    {
      "cell_type": "markdown",
      "source": [
        "Linear algebra routine accepts two-dimensional array object and output is also a two-dimensional array.\n",
        "\n",
        "Calculating determinant of a two-dimensional matrix,"
      ],
      "metadata": {
        "id": "exWmNr-WHhaU"
      }
    },
    {
      "cell_type": "code",
      "source": [
        "from scipy import linalg\n",
        "import numpy as np\n",
        "\n",
        "two_d_array = np.array([ [4,5], [3,2] ])  # Define square matrix\n",
        "\n",
        "linalg.det( two_d_array ) # Pass values to det() function"
      ],
      "metadata": {
        "colab": {
          "base_uri": "https://localhost:8080/"
        },
        "id": "eUk-dfeeHhTF",
        "outputId": "f97a92c9-92c9-4cf5-c40f-8f68ed4fbc3c"
      },
      "execution_count": null,
      "outputs": [
        {
          "output_type": "execute_result",
          "data": {
            "text/plain": [
              "-7.0"
            ]
          },
          "metadata": {},
          "execution_count": 7
        }
      ]
    },
    {
      "cell_type": "markdown",
      "source": [
        "Eigenvalues and Eigenvector\n",
        "scipy.linalg.eig()\n",
        "\n",
        "The most common problem in linear algebra is eigenvalues and eigenvector which can be easily solved using eig() function.\n",
        "Now lets we find the Eigenvalue of (X) and correspond eigenvector of a two-dimensional square matrix.\n"
      ],
      "metadata": {
        "id": "8msbNwQwIRWS"
      }
    },
    {
      "cell_type": "code",
      "source": [
        "from scipy import linalg\n",
        "import numpy as np\n",
        "\n",
        "arr = np.array([[5,4],[6,3]]) # Define two dimensional array\n",
        "\n",
        "eg_val, eg_vect = linalg.eig(arr) # Pass value into function\n",
        "\n",
        "print(eg_val) # Get eigenvalues\n",
        "\n",
        "print(eg_vect) # Get eigenvectors"
      ],
      "metadata": {
        "colab": {
          "base_uri": "https://localhost:8080/"
        },
        "id": "dqv071NFIRPR",
        "outputId": "613af865-b1ca-4e2e-c3b1-4fcf0ff0cc02"
      },
      "execution_count": null,
      "outputs": [
        {
          "output_type": "stream",
          "name": "stdout",
          "text": [
            "[ 9.+0.j -1.+0.j]\n",
            "[[ 0.70710678 -0.5547002 ]\n",
            " [ 0.70710678  0.83205029]]\n"
          ]
        }
      ]
    }
  ]
}