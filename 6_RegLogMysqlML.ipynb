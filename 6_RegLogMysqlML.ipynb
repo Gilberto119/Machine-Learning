{
  "cells": [
    {
      "cell_type": "markdown",
      "metadata": {
        "id": "view-in-github",
        "colab_type": "text"
      },
      "source": [
        "<a href=\"https://colab.research.google.com/github/Gilberto119/Machine-Learning/blob/main/6_RegLogMysqlML.ipynb\" target=\"_parent\"><img src=\"https://colab.research.google.com/assets/colab-badge.svg\" alt=\"Open In Colab\"/></a>"
      ]
    },
    {
      "cell_type": "markdown",
      "id": "1079c827-6413-41ec-84ba-850564dadd85",
      "metadata": {
        "id": "1079c827-6413-41ec-84ba-850564dadd85"
      },
      "source": [
        "# Tutorial MySQL, Pandas, Regresión logística con statsmodels"
      ]
    },
    {
      "cell_type": "markdown",
      "id": "8fde1e86-f8cb-439e-bf6a-56633ee16284",
      "metadata": {
        "id": "8fde1e86-f8cb-439e-bf6a-56633ee16284"
      },
      "source": [
        "## Instalación e importación de bibliotecas necesarias para trabajar"
      ]
    },
    {
      "cell_type": "code",
      "execution_count": 1,
      "id": "23f3d7aa-9dbe-432f-8ded-924615d4a8a0",
      "metadata": {
        "id": "23f3d7aa-9dbe-432f-8ded-924615d4a8a0"
      },
      "outputs": [],
      "source": [
        "#Biblioteca de machine learning con herramientas útiles\n",
        "#!pip install scikit-learn\n",
        "import sklearn"
      ]
    },
    {
      "cell_type": "code",
      "execution_count": 2,
      "id": "39498409-a497-411c-ad58-8f44e65600b8",
      "metadata": {
        "id": "39498409-a497-411c-ad58-8f44e65600b8"
      },
      "outputs": [],
      "source": [
        "#Actualización de pip si es necesaria\n",
        "#!pip install --upgrade pip"
      ]
    },
    {
      "cell_type": "code",
      "execution_count": null,
      "id": "9ce691a7-c290-430d-ae26-fc511b87110c",
      "metadata": {
        "id": "9ce691a7-c290-430d-ae26-fc511b87110c",
        "outputId": "3ba838a3-24a0-4435-9b67-9ff9d297ebeb"
      },
      "outputs": [
        {
          "name": "stdout",
          "output_type": "stream",
          "text": [
            "Requirement already satisfied: mysql in c:\\users\\l00290098\\appdata\\local\\programs\\python\\python310\\lib\\site-packages (0.0.3)\n",
            "Requirement already satisfied: mysqlclient in c:\\users\\l00290098\\appdata\\local\\programs\\python\\python310\\lib\\site-packages (from mysql) (2.1.1)\n",
            "\n",
            "[notice] A new release of pip available: 22.1.2 -> 22.2.2\n",
            "[notice] To update, run: python.exe -m pip install --upgrade pip\n",
            "Requirement already satisfied: mysql-connector-python in c:\\users\\l00290098\\appdata\\local\\programs\\python\\python310\\lib\\site-packages (8.0.29)\n",
            "Requirement already satisfied: protobuf>=3.0.0 in c:\\users\\l00290098\\appdata\\local\\programs\\python\\python310\\lib\\site-packages (from mysql-connector-python) (4.21.2)\n",
            "\n",
            "[notice] A new release of pip available: 22.1.2 -> 22.2.2\n",
            "[notice] To update, run: python.exe -m pip install --upgrade pip\n"
          ]
        }
      ],
      "source": [
        "#Instalación de MySQL y el conector para utilizar Python\n",
        "!pip install mysql\n",
        "!pip install mysql-connector-python\n",
        "import mysql.connector as sql\n"
      ]
    },
    {
      "cell_type": "markdown",
      "id": "9056e76f-8b67-4a43-aaae-b62479876cca",
      "metadata": {
        "id": "9056e76f-8b67-4a43-aaae-b62479876cca"
      },
      "source": [
        "## Conexión a la base de datos de MySQL utilizando Python"
      ]
    },
    {
      "cell_type": "code",
      "execution_count": null,
      "id": "b611d6dc-d129-4496-b65d-2499a3dbe435",
      "metadata": {
        "id": "b611d6dc-d129-4496-b65d-2499a3dbe435",
        "outputId": "8595fca6-080d-4f26-dbb8-a737cc1724c4"
      },
      "outputs": [
        {
          "name": "stdout",
          "output_type": "stream",
          "text": [
            "<mysql.connector.connection_cext.CMySQLConnection object at 0x0000013F335B43A0>\n"
          ]
        }
      ],
      "source": [
        "db_connect = sql.connect(host='database-1.cvxrkue0ncmc.us-east-1.rds.amazonaws.com', database='datasets_ml', user = 'admin', password = 'Picadita#1109')\n",
        "print(db_connect)"
      ]
    },
    {
      "cell_type": "code",
      "execution_count": null,
      "id": "2a6b00e6-c404-468f-b550-e8cb00a4626e",
      "metadata": {
        "id": "2a6b00e6-c404-468f-b550-e8cb00a4626e"
      },
      "outputs": [],
      "source": [
        "#Creamos un cursor que nos permita ejecutar queries SQL a traves de la conexión establecida\n",
        "miCursor = db_connect.cursor()"
      ]
    },
    {
      "cell_type": "markdown",
      "id": "8f4a0d12-5f04-4e35-898d-08b4aaaa77d8",
      "metadata": {
        "id": "8f4a0d12-5f04-4e35-898d-08b4aaaa77d8"
      },
      "source": [
        "## Comandos SQL "
      ]
    },
    {
      "cell_type": "markdown",
      "id": "091be3ef-0a31-4aca-bf57-afd469aa2383",
      "metadata": {
        "id": "091be3ef-0a31-4aca-bf57-afd469aa2383"
      },
      "source": [
        "Al carga un conjunto de datos en MySQL este pasa a ser una tabla y ahí directamente es donde podemos ejecutar diferentes comandos SQL"
      ]
    },
    {
      "cell_type": "markdown",
      "id": "aab87806-81ef-4616-9af5-53383455952c",
      "metadata": {
        "id": "aab87806-81ef-4616-9af5-53383455952c"
      },
      "source": [
        "### Descripción de la estructura de la tabla"
      ]
    },
    {
      "cell_type": "code",
      "execution_count": null,
      "id": "e11e27b1-79be-4e70-b94a-666733ec2190",
      "metadata": {
        "id": "e11e27b1-79be-4e70-b94a-666733ec2190",
        "outputId": "904eafe5-6da1-4647-e92f-fbd5f55e0eb5"
      },
      "outputs": [
        {
          "name": "stdout",
          "output_type": "stream",
          "text": [
            "('fixed acidity', b'double', 'YES', '', None, '')\n",
            "('volatile acidity', b'double', 'YES', '', None, '')\n",
            "('citric acid', b'double', 'YES', '', None, '')\n",
            "('residual sugar', b'double', 'YES', '', None, '')\n",
            "('chlorides', b'double', 'YES', '', None, '')\n",
            "('free sulfur dioxide', b'int', 'YES', '', None, '')\n",
            "('total sulfur dioxide', b'int', 'YES', '', None, '')\n",
            "('density', b'double', 'YES', '', None, '')\n",
            "('pH', b'double', 'YES', '', None, '')\n",
            "('sulphates', b'double', 'YES', '', None, '')\n",
            "('alcohol', b'double', 'YES', '', None, '')\n",
            "('class', b'int', 'YES', '', None, '')\n"
          ]
        }
      ],
      "source": [
        "miCursor.execute(\"DESC winequality_red\")\n",
        "\n",
        "miResultado = miCursor.fetchall()\n",
        "\n",
        "for x in miResultado:\n",
        "  print(x)"
      ]
    },
    {
      "cell_type": "markdown",
      "id": "e9d431da-d140-4417-8a51-5d9355ae1cf7",
      "metadata": {
        "id": "e9d431da-d140-4417-8a51-5d9355ae1cf7"
      },
      "source": [
        "### SELECT"
      ]
    },
    {
      "cell_type": "code",
      "execution_count": null,
      "id": "d5e2e034-8df9-4413-b120-bcaff0d5c65f",
      "metadata": {
        "id": "d5e2e034-8df9-4413-b120-bcaff0d5c65f",
        "outputId": "6d7a18ca-f871-485e-f87f-62cb9c070e09"
      },
      "outputs": [
        {
          "name": "stdout",
          "output_type": "stream",
          "text": [
            "(7.4, 0.7, 0.0, 1.9, 0.076, 11, 34, 0.9978, 3.51, 0.56, 9.4, 0)\n",
            "(7.8, 0.88, 0.0, 2.6, 0.098, 25, 67, 0.9968, 3.2, 0.68, 9.8, 0)\n",
            "(7.8, 0.76, 0.04, 2.3, 0.092, 15, 54, 0.997, 3.26, 0.65, 9.8, 0)\n",
            "(11.2, 0.28, 0.56, 1.9, 0.075, 17, 60, 0.998, 3.16, 0.58, 9.8, 1)\n",
            "(7.4, 0.7, 0.0, 1.9, 0.076, 11, 34, 0.9978, 3.51, 0.56, 9.4, 0)\n",
            "(7.4, 0.66, 0.0, 1.8, 0.075, 13, 40, 0.9978, 3.51, 0.56, 9.4, 0)\n",
            "(7.9, 0.6, 0.06, 1.6, 0.069, 15, 59, 0.9964, 3.3, 0.46, 9.4, 0)\n",
            "(7.3, 0.65, 0.0, 1.2, 0.065, 15, 21, 0.9946, 3.39, 0.47, 10.0, 1)\n",
            "(7.8, 0.58, 0.02, 2.0, 0.073, 9, 18, 0.9968, 3.36, 0.57, 9.5, 1)\n",
            "(7.5, 0.5, 0.36, 6.1, 0.071, 17, 102, 0.9978, 3.35, 0.8, 10.5, 0)\n"
          ]
        }
      ],
      "source": [
        "miCursor.execute(\"SELECT * FROM winequality_red LIMIT 10\")\n",
        "miResultado = miCursor.fetchall()\n",
        "for x in miResultado:\n",
        "  print(x)"
      ]
    },
    {
      "cell_type": "code",
      "execution_count": null,
      "id": "555eb604-b161-4502-b368-b3aa230383f0",
      "metadata": {
        "id": "555eb604-b161-4502-b368-b3aa230383f0",
        "outputId": "d27f976a-3150-4823-ac18-25a30ae1c403"
      },
      "outputs": [
        {
          "name": "stdout",
          "output_type": "stream",
          "text": [
            "(7.4,)\n",
            "(7.8,)\n",
            "(7.8,)\n",
            "(11.2,)\n",
            "(7.4,)\n",
            "(7.4,)\n",
            "(7.9,)\n",
            "(7.3,)\n",
            "(7.8,)\n",
            "(7.5,)\n"
          ]
        }
      ],
      "source": [
        "miCursor.execute(\"SELECT `fixed acidity` FROM winequality_red LIMIT 10\")\n",
        "miResultado = miCursor.fetchall()\n",
        "for x in miResultado:\n",
        "  print(x)"
      ]
    },
    {
      "cell_type": "code",
      "execution_count": null,
      "id": "995c6b30-ba25-4cb9-a561-bf49bd8ed7fe",
      "metadata": {
        "id": "995c6b30-ba25-4cb9-a561-bf49bd8ed7fe",
        "outputId": "97d94a78-45b4-4335-e7e5-a34f26b1fc27"
      },
      "outputs": [
        {
          "name": "stdout",
          "output_type": "stream",
          "text": [
            "(7.4, 9.4, 0.9978, 11, 0)\n",
            "(7.8, 9.8, 0.9968, 25, 0)\n",
            "(7.8, 9.8, 0.997, 15, 0)\n",
            "(11.2, 9.8, 0.998, 17, 1)\n",
            "(7.4, 9.4, 0.9978, 11, 0)\n",
            "(7.4, 9.4, 0.9978, 13, 0)\n",
            "(7.9, 9.4, 0.9964, 15, 0)\n",
            "(7.3, 10.0, 0.9946, 15, 1)\n",
            "(7.8, 9.5, 0.9968, 9, 1)\n",
            "(7.5, 10.5, 0.9978, 17, 0)\n"
          ]
        }
      ],
      "source": [
        "miCursor.execute(\"SELECT `fixed acidity`,alcohol,density,`free sulfur dioxide`,class  FROM winequality_red LIMIT 10\")\n",
        "miResultado = miCursor.fetchall()\n",
        "for x in miResultado:\n",
        "  print(x)"
      ]
    },
    {
      "cell_type": "code",
      "execution_count": null,
      "id": "4129d35d-4937-468c-94ea-9b4deddb0b75",
      "metadata": {
        "id": "4129d35d-4937-468c-94ea-9b4deddb0b75",
        "outputId": "5ed07f82-258d-4845-a9a2-4235364bdf64"
      },
      "outputs": [
        {
          "name": "stdout",
          "output_type": "stream",
          "text": [
            "(7.4, 9.4, 0.9978, 11, 0)\n",
            "(7.8, 9.8, 0.9968, 25, 0)\n",
            "(7.8, 9.8, 0.997, 15, 0)\n",
            "(7.4, 9.4, 0.9978, 11, 0)\n",
            "(7.4, 9.4, 0.9978, 13, 0)\n",
            "(7.9, 9.4, 0.9964, 15, 0)\n",
            "(7.5, 10.5, 0.9978, 17, 0)\n",
            "(6.7, 9.2, 0.9959, 15, 0)\n",
            "(7.5, 10.5, 0.9978, 17, 0)\n",
            "(5.6, 9.9, 0.9943, 16, 0)\n",
            "(7.8, 9.1, 0.9974, 9, 0)\n",
            "(8.9, 9.2, 0.9986, 52, 0)\n",
            "(8.9, 9.2, 0.9986, 51, 0)\n",
            "(8.1, 9.3, 0.9968, 16, 0)\n",
            "(7.4, 9.0, 0.9974, 6, 0)\n"
          ]
        }
      ],
      "source": [
        "miCursor.execute(\"SELECT `fixed acidity`,alcohol,density,`free sulfur dioxide`,class  FROM winequality_red WHERE class=0 LIMIT 15\")\n",
        "miResultado = miCursor.fetchall()\n",
        "for x in miResultado:\n",
        "  print(x)"
      ]
    },
    {
      "cell_type": "code",
      "execution_count": null,
      "id": "622d655c-86ed-4364-8d51-0987cf96d3cd",
      "metadata": {
        "id": "622d655c-86ed-4364-8d51-0987cf96d3cd",
        "outputId": "a003fdc0-b9d3-4299-a936-408fc6dcd260"
      },
      "outputs": [
        {
          "name": "stdout",
          "output_type": "stream",
          "text": [
            "(8.4, 0.9994, 0)\n",
            "(8.5, 0.99914, 0)\n",
            "(8.8, 1.00242, 0)\n",
            "(8.8, 1.00242, 0)\n",
            "(9.0, 1.0004, 0)\n",
            "(9.0, 0.9978, 0)\n",
            "(9.0, 0.99706, 0)\n",
            "(9.0, 0.9956, 0)\n",
            "(9.0, 0.99706, 0)\n",
            "(9.0, 0.9979, 0)\n",
            "(9.0, 1.0008, 0)\n",
            "(9.0, 0.9972, 0)\n",
            "(9.0, 0.9978, 0)\n",
            "(9.0, 0.9974, 0)\n",
            "(9.0, 0.9962, 0)\n"
          ]
        }
      ],
      "source": [
        "miCursor.execute(\"SELECT alcohol,density,class  FROM winequality_red WHERE class=0  ORDER BY alcohol LIMIT 15\")\n",
        "miResultado = miCursor.fetchall()\n",
        "for x in miResultado:\n",
        "  print(x)"
      ]
    },
    {
      "cell_type": "markdown",
      "id": "00f18735-d511-460d-ab55-3431d9d3b0da",
      "metadata": {
        "id": "00f18735-d511-460d-ab55-3431d9d3b0da"
      },
      "source": [
        "### ALTER TABLE"
      ]
    },
    {
      "cell_type": "code",
      "execution_count": null,
      "id": "61349772-8cb8-456c-95a7-4e09634ffb68",
      "metadata": {
        "id": "61349772-8cb8-456c-95a7-4e09634ffb68"
      },
      "outputs": [],
      "source": [
        "miCursor.execute(\"ALTER TABLE winequality_red ADD id INT NOT NULL AUTO_INCREMENT primary key\")"
      ]
    },
    {
      "cell_type": "code",
      "execution_count": null,
      "id": "9b0c25c3-5438-4298-924c-a38d04ddc90b",
      "metadata": {
        "id": "9b0c25c3-5438-4298-924c-a38d04ddc90b",
        "outputId": "182b4915-335f-43b5-c032-d41a646cb33e"
      },
      "outputs": [
        {
          "name": "stdout",
          "output_type": "stream",
          "text": [
            "(1, 9.4, 0.9978, 0)\n",
            "(2, 9.8, 0.9982, 1)\n",
            "(3, 10.8, 0.9994, 1)\n",
            "(4, 10.7, 0.9969, 0)\n",
            "(5, 10.5, 0.9962, 1)\n",
            "(6, 9.5, 0.9967, 1)\n",
            "(7, 9.8, 0.9968, 0)\n",
            "(8, 9.8, 0.9982, 1)\n",
            "(9, 9.8, 0.997, 0)\n",
            "(10, 10.7, 1.0006, 1)\n",
            "(11, 9.8, 0.998, 1)\n",
            "(12, 9.5, 0.9962, 0)\n",
            "(13, 9.4, 0.9978, 0)\n",
            "(14, 9.5, 0.9961, 0)\n",
            "(15, 9.4, 0.9978, 0)\n"
          ]
        }
      ],
      "source": [
        "miCursor.execute(\"SELECT id,alcohol,density,class  FROM winequality_red ORDER BY id LIMIT 15\")\n",
        "miResultado = miCursor.fetchall()\n",
        "for x in miResultado:\n",
        "  print(x)"
      ]
    },
    {
      "cell_type": "code",
      "execution_count": null,
      "id": "2fe1387f-cf23-4105-b3d9-e4d83eb7326d",
      "metadata": {
        "id": "2fe1387f-cf23-4105-b3d9-e4d83eb7326d",
        "outputId": "3ebf6e87-5c19-4b9a-e35e-5714e0389079"
      },
      "outputs": [
        {
          "name": "stdout",
          "output_type": "stream",
          "text": [
            "1 Registro existoso.\n"
          ]
        }
      ],
      "source": [
        "sql = \"INSERT INTO winequality_red (`fixed acidity`,`volatile acidity`,`citric acid`,`residual sugar`,chlorides, `free sulfur dioxide`, `total sulfur dioxide`, density, pH, sulphates,alcohol,class) VALUES (%s, %s, %s, %s, %s, %s, %s, %s, %s, %s, %s,%s)\"\n",
        "val = (7.4, 0.7, 0.5, 1.9, 0.076, 14, 35, 0.9978, 3.51, 0.42, 9.6, 0)\n",
        "miCursor.execute(sql, val)\n",
        "\n",
        "db_connect.commit()\n",
        "\n",
        "print(miCursor.rowcount, \"Registro existoso.\")"
      ]
    },
    {
      "cell_type": "code",
      "execution_count": null,
      "id": "44b5f29c-4a3f-42c8-8d21-98b83b623671",
      "metadata": {
        "id": "44b5f29c-4a3f-42c8-8d21-98b83b623671",
        "outputId": "ebdcd83d-2f83-4f54-ebf6-bdfe07be0836"
      },
      "outputs": [
        {
          "name": "stdout",
          "output_type": "stream",
          "text": [
            "(7.4, 0.7, 0.5, 1.9, 0.076, 14, 35, 0.9978, 3.51, 0.42, 9.6, 0, 1600)\n",
            "(6.0, 0.31, 0.47, 3.6, 0.067, 18, 42, 0.99549, 3.39, 0.66, 11.0, 1, 1599)\n",
            "(5.9, 0.645, 0.12, 2.0, 0.075, 32, 44, 0.99547, 3.57, 0.71, 10.2, 0, 1598)\n",
            "(6.3, 0.51, 0.13, 2.3, 0.076, 29, 40, 0.99574, 3.42, 0.75, 11.0, 1, 1597)\n",
            "(5.9, 0.55, 0.1, 2.2, 0.062, 39, 51, 0.99512, 3.52, 0.76, 11.2, 1, 1596)\n"
          ]
        }
      ],
      "source": [
        "miCursor.execute(\"SELECT * FROM winequality_red ORDER BY id DESC LIMIT 5\")\n",
        "miResultado = miCursor.fetchall()\n",
        "for x in miResultado:\n",
        "  print(x)"
      ]
    },
    {
      "cell_type": "markdown",
      "id": "0ac61a26-e9b2-4e33-bc5a-73203d8e25be",
      "metadata": {
        "id": "0ac61a26-e9b2-4e33-bc5a-73203d8e25be"
      },
      "source": [
        "### UPDATE"
      ]
    },
    {
      "cell_type": "code",
      "execution_count": null,
      "id": "24c9d329-a0cd-4a13-8af7-b4cafbf66360",
      "metadata": {
        "id": "24c9d329-a0cd-4a13-8af7-b4cafbf66360",
        "outputId": "bb3bf384-bdb7-4fcd-f632-ce3d6da34f9f"
      },
      "outputs": [
        {
          "name": "stdout",
          "output_type": "stream",
          "text": [
            "1 Cambio existoso.\n"
          ]
        }
      ],
      "source": [
        "sql = \"UPDATE winequality_red SET `fixed acidity`= 8.4 WHERE id=1600\"\n",
        "miCursor.execute(sql)\n",
        "db_connect.commit()\n",
        "print(miCursor.rowcount, \"Cambio existoso.\")"
      ]
    },
    {
      "cell_type": "code",
      "execution_count": null,
      "id": "3b4a1806-fdd0-44c1-99fb-6ce3d4de57be",
      "metadata": {
        "id": "3b4a1806-fdd0-44c1-99fb-6ce3d4de57be",
        "outputId": "a2fe961e-ddf2-465a-cc0c-c30c40049b18"
      },
      "outputs": [
        {
          "name": "stdout",
          "output_type": "stream",
          "text": [
            "(8.4, 0.7, 0.5, 1.9, 0.076, 14, 35, 0.9978, 3.51, 0.42, 9.6, 0, 1600)\n",
            "(6.0, 0.31, 0.47, 3.6, 0.067, 18, 42, 0.99549, 3.39, 0.66, 11.0, 1, 1599)\n",
            "(5.9, 0.645, 0.12, 2.0, 0.075, 32, 44, 0.99547, 3.57, 0.71, 10.2, 0, 1598)\n",
            "(6.3, 0.51, 0.13, 2.3, 0.076, 29, 40, 0.99574, 3.42, 0.75, 11.0, 1, 1597)\n",
            "(5.9, 0.55, 0.1, 2.2, 0.062, 39, 51, 0.99512, 3.52, 0.76, 11.2, 1, 1596)\n"
          ]
        }
      ],
      "source": [
        "miCursor.execute(\"SELECT * FROM winequality_red ORDER BY id DESC LIMIT 5\")\n",
        "miResultado = miCursor.fetchall()\n",
        "for x in miResultado:\n",
        "  print(x)"
      ]
    },
    {
      "cell_type": "markdown",
      "id": "4620d45b-9b11-453c-9d7e-fb5cb3ea9895",
      "metadata": {
        "id": "4620d45b-9b11-453c-9d7e-fb5cb3ea9895"
      },
      "source": [
        "### DELETE"
      ]
    },
    {
      "cell_type": "code",
      "execution_count": null,
      "id": "1f8568aa-b09f-4ef4-a9f1-88b302e23bd3",
      "metadata": {
        "id": "1f8568aa-b09f-4ef4-a9f1-88b302e23bd3",
        "outputId": "d76cf562-ee41-47bf-8ffc-f29c563e3076"
      },
      "outputs": [
        {
          "name": "stdout",
          "output_type": "stream",
          "text": [
            "1 Eliminación existosa.\n"
          ]
        }
      ],
      "source": [
        "sql = \"DELETE FROM winequality_red WHERE id=1600\"\n",
        "miCursor.execute(sql)\n",
        "db_connect.commit()\n",
        "print(miCursor.rowcount, \"Eliminación existosa.\")"
      ]
    },
    {
      "cell_type": "code",
      "execution_count": null,
      "id": "cb60e269-7e18-4bae-b225-cfdfc0920b9b",
      "metadata": {
        "id": "cb60e269-7e18-4bae-b225-cfdfc0920b9b",
        "outputId": "4b980659-cc9c-4e54-8a04-aaae3713d849"
      },
      "outputs": [
        {
          "name": "stdout",
          "output_type": "stream",
          "text": [
            "(6.0, 0.31, 0.47, 3.6, 0.067, 18, 42, 0.99549, 3.39, 0.66, 11.0, 1, 1599)\n",
            "(5.9, 0.645, 0.12, 2.0, 0.075, 32, 44, 0.99547, 3.57, 0.71, 10.2, 0, 1598)\n",
            "(6.3, 0.51, 0.13, 2.3, 0.076, 29, 40, 0.99574, 3.42, 0.75, 11.0, 1, 1597)\n",
            "(5.9, 0.55, 0.1, 2.2, 0.062, 39, 51, 0.99512, 3.52, 0.76, 11.2, 1, 1596)\n",
            "(6.2, 0.6, 0.08, 2.0, 0.09, 32, 44, 0.9949, 3.45, 0.58, 10.5, 0, 1595)\n"
          ]
        }
      ],
      "source": [
        "miCursor.execute(\"SELECT * FROM winequality_red ORDER BY id DESC LIMIT 5\")\n",
        "miResultado = miCursor.fetchall()\n",
        "for x in miResultado:\n",
        "  print(x)"
      ]
    },
    {
      "cell_type": "code",
      "execution_count": null,
      "id": "d56a1c9f-198c-4f14-a756-a5779ec49136",
      "metadata": {
        "id": "d56a1c9f-198c-4f14-a756-a5779ec49136"
      },
      "outputs": [],
      "source": [
        "## Usando la conexión con MySQL para construir DataFrames utilizando Pandas"
      ]
    },
    {
      "cell_type": "code",
      "execution_count": null,
      "id": "eb9d2e2f-74f0-4f04-b032-aac20ec526e6",
      "metadata": {
        "id": "eb9d2e2f-74f0-4f04-b032-aac20ec526e6"
      },
      "outputs": [],
      "source": [
        "#!pip install pandas\n",
        "import pandas as pd"
      ]
    },
    {
      "cell_type": "code",
      "execution_count": null,
      "id": "c4be8fa2-ae92-435e-9b48-a3a83d3f1188",
      "metadata": {
        "id": "c4be8fa2-ae92-435e-9b48-a3a83d3f1188",
        "outputId": "a39e133e-1909-4c1f-b94a-dd8e5e5d7c81"
      },
      "outputs": [
        {
          "name": "stderr",
          "output_type": "stream",
          "text": [
            "C:\\Users\\link_\\AppData\\Roaming\\Python\\Python39\\site-packages\\pandas\\io\\sql.py:761: UserWarning: pandas only support SQLAlchemy connectable(engine/connection) ordatabase string URI or sqlite3 DBAPI2 connectionother DBAPI2 objects are not tested, please consider using SQLAlchemy\n",
            "  warnings.warn(\n"
          ]
        },
        {
          "data": {
            "text/html": [
              "<div>\n",
              "<style scoped>\n",
              "    .dataframe tbody tr th:only-of-type {\n",
              "        vertical-align: middle;\n",
              "    }\n",
              "\n",
              "    .dataframe tbody tr th {\n",
              "        vertical-align: top;\n",
              "    }\n",
              "\n",
              "    .dataframe thead th {\n",
              "        text-align: right;\n",
              "    }\n",
              "</style>\n",
              "<table border=\"1\" class=\"dataframe\">\n",
              "  <thead>\n",
              "    <tr style=\"text-align: right;\">\n",
              "      <th></th>\n",
              "      <th>fixed acidity</th>\n",
              "      <th>volatile acidity</th>\n",
              "      <th>citric acid</th>\n",
              "      <th>residual sugar</th>\n",
              "      <th>chlorides</th>\n",
              "      <th>free sulfur dioxide</th>\n",
              "      <th>total sulfur dioxide</th>\n",
              "      <th>density</th>\n",
              "      <th>pH</th>\n",
              "      <th>sulphates</th>\n",
              "      <th>alcohol</th>\n",
              "      <th>class</th>\n",
              "    </tr>\n",
              "  </thead>\n",
              "  <tbody>\n",
              "    <tr>\n",
              "      <th>0</th>\n",
              "      <td>7.4</td>\n",
              "      <td>0.700</td>\n",
              "      <td>0.00</td>\n",
              "      <td>1.9</td>\n",
              "      <td>0.076</td>\n",
              "      <td>11</td>\n",
              "      <td>34</td>\n",
              "      <td>0.9978</td>\n",
              "      <td>3.51</td>\n",
              "      <td>0.56</td>\n",
              "      <td>9.4</td>\n",
              "      <td>0</td>\n",
              "    </tr>\n",
              "    <tr>\n",
              "      <th>1</th>\n",
              "      <td>10.9</td>\n",
              "      <td>0.390</td>\n",
              "      <td>0.47</td>\n",
              "      <td>1.8</td>\n",
              "      <td>0.118</td>\n",
              "      <td>6</td>\n",
              "      <td>14</td>\n",
              "      <td>0.9982</td>\n",
              "      <td>3.30</td>\n",
              "      <td>0.75</td>\n",
              "      <td>9.8</td>\n",
              "      <td>1</td>\n",
              "    </tr>\n",
              "    <tr>\n",
              "      <th>2</th>\n",
              "      <td>12.8</td>\n",
              "      <td>0.300</td>\n",
              "      <td>0.74</td>\n",
              "      <td>2.6</td>\n",
              "      <td>0.095</td>\n",
              "      <td>9</td>\n",
              "      <td>28</td>\n",
              "      <td>0.9994</td>\n",
              "      <td>3.20</td>\n",
              "      <td>0.77</td>\n",
              "      <td>10.8</td>\n",
              "      <td>1</td>\n",
              "    </tr>\n",
              "    <tr>\n",
              "      <th>3</th>\n",
              "      <td>9.3</td>\n",
              "      <td>0.320</td>\n",
              "      <td>0.57</td>\n",
              "      <td>2.0</td>\n",
              "      <td>0.074</td>\n",
              "      <td>27</td>\n",
              "      <td>65</td>\n",
              "      <td>0.9969</td>\n",
              "      <td>3.28</td>\n",
              "      <td>0.79</td>\n",
              "      <td>10.7</td>\n",
              "      <td>0</td>\n",
              "    </tr>\n",
              "    <tr>\n",
              "      <th>4</th>\n",
              "      <td>8.0</td>\n",
              "      <td>0.705</td>\n",
              "      <td>0.05</td>\n",
              "      <td>1.9</td>\n",
              "      <td>0.074</td>\n",
              "      <td>8</td>\n",
              "      <td>19</td>\n",
              "      <td>0.9962</td>\n",
              "      <td>3.34</td>\n",
              "      <td>0.95</td>\n",
              "      <td>10.5</td>\n",
              "      <td>1</td>\n",
              "    </tr>\n",
              "  </tbody>\n",
              "</table>\n",
              "</div>"
            ],
            "text/plain": [
              "   fixed acidity  volatile acidity  citric acid  residual sugar  chlorides  \\\n",
              "0            7.4             0.700         0.00             1.9      0.076   \n",
              "1           10.9             0.390         0.47             1.8      0.118   \n",
              "2           12.8             0.300         0.74             2.6      0.095   \n",
              "3            9.3             0.320         0.57             2.0      0.074   \n",
              "4            8.0             0.705         0.05             1.9      0.074   \n",
              "\n",
              "   free sulfur dioxide  total sulfur dioxide  density    pH  sulphates  \\\n",
              "0                   11                    34   0.9978  3.51       0.56   \n",
              "1                    6                    14   0.9982  3.30       0.75   \n",
              "2                    9                    28   0.9994  3.20       0.77   \n",
              "3                   27                    65   0.9969  3.28       0.79   \n",
              "4                    8                    19   0.9962  3.34       0.95   \n",
              "\n",
              "   alcohol  class  \n",
              "0      9.4      0  \n",
              "1      9.8      1  \n",
              "2     10.8      1  \n",
              "3     10.7      0  \n",
              "4     10.5      1  "
            ]
          },
          "execution_count": 69,
          "metadata": {},
          "output_type": "execute_result"
        }
      ],
      "source": [
        "df = pd.read_sql('SELECT `fixed acidity`,`volatile acidity`,`citric acid`,`residual sugar`,chlorides, `free sulfur dioxide`, `total sulfur dioxide`, density, pH, sulphates,alcohol, class from winequality_red', con=db_connect)\n",
        "df.head()"
      ]
    },
    {
      "cell_type": "markdown",
      "id": "86df3683-18f1-4bc0-9588-36edcee491f4",
      "metadata": {
        "id": "86df3683-18f1-4bc0-9588-36edcee491f4"
      },
      "source": [
        "## Separando las variables independientes y la dependiente"
      ]
    },
    {
      "cell_type": "code",
      "execution_count": null,
      "id": "a8193a1f-00ad-4203-91e1-63236f5dc21f",
      "metadata": {
        "id": "a8193a1f-00ad-4203-91e1-63236f5dc21f"
      },
      "outputs": [],
      "source": [
        "# con esto tomamos todas las variables excepto 'class' como variables independiente\n",
        "X = df.drop(['class'], axis = 1)  \n",
        "# con esto tomamos solo a la variable 'class' como variable dependiente\n",
        "y = df['class'] "
      ]
    },
    {
      "cell_type": "markdown",
      "id": "4ce707cd-5f3f-45f6-94e8-2cce7d10a7dc",
      "metadata": {
        "id": "4ce707cd-5f3f-45f6-94e8-2cce7d10a7dc"
      },
      "source": [
        "## Creando el conjunto de prueba y entrenamiento con scikit-learn"
      ]
    },
    {
      "cell_type": "code",
      "execution_count": null,
      "id": "a018d94b-05e7-42c7-958e-044b192d1d45",
      "metadata": {
        "id": "a018d94b-05e7-42c7-958e-044b192d1d45"
      },
      "outputs": [],
      "source": [
        "# llamamos a la biblioteca que divide nuestros datos en entrenamiento y prueba\n",
        "from sklearn.model_selection import train_test_split  \n",
        "X_train, X_test, y_train, y_test = train_test_split(X,y,test_size=0.3,random_state=50)"
      ]
    },
    {
      "cell_type": "markdown",
      "id": "543c5d65-40ac-4ea1-8734-8dc4530c8bb1",
      "metadata": {
        "id": "543c5d65-40ac-4ea1-8734-8dc4530c8bb1"
      },
      "source": [
        "## Instalando e importando la biblioteca para la construcción de modelos de regresión statsmodels"
      ]
    },
    {
      "cell_type": "code",
      "execution_count": null,
      "id": "fad34588-26b8-4f09-8e6b-53518947b8da",
      "metadata": {
        "id": "fad34588-26b8-4f09-8e6b-53518947b8da"
      },
      "outputs": [],
      "source": [
        "#!pip install statsmodels\n",
        "import statsmodels.api as sm"
      ]
    },
    {
      "cell_type": "markdown",
      "id": "0191f641-e3e7-4445-a273-33d2b6e0c379",
      "metadata": {
        "id": "0191f641-e3e7-4445-a273-33d2b6e0c379"
      },
      "source": [
        "## Modelo de regresión logística"
      ]
    },
    {
      "cell_type": "code",
      "execution_count": null,
      "id": "d2c85300-d9db-4fbc-abc9-494311e21531",
      "metadata": {
        "id": "d2c85300-d9db-4fbc-abc9-494311e21531",
        "outputId": "87d09477-ca46-4a60-de3b-6b6273aff19a"
      },
      "outputs": [
        {
          "data": {
            "text/html": [
              "<div>\n",
              "<style scoped>\n",
              "    .dataframe tbody tr th:only-of-type {\n",
              "        vertical-align: middle;\n",
              "    }\n",
              "\n",
              "    .dataframe tbody tr th {\n",
              "        vertical-align: top;\n",
              "    }\n",
              "\n",
              "    .dataframe thead th {\n",
              "        text-align: right;\n",
              "    }\n",
              "</style>\n",
              "<table border=\"1\" class=\"dataframe\">\n",
              "  <thead>\n",
              "    <tr style=\"text-align: right;\">\n",
              "      <th></th>\n",
              "      <th>fixed acidity</th>\n",
              "      <th>volatile acidity</th>\n",
              "      <th>citric acid</th>\n",
              "      <th>residual sugar</th>\n",
              "      <th>chlorides</th>\n",
              "      <th>free sulfur dioxide</th>\n",
              "      <th>total sulfur dioxide</th>\n",
              "      <th>density</th>\n",
              "      <th>pH</th>\n",
              "      <th>sulphates</th>\n",
              "      <th>alcohol</th>\n",
              "      <th>class</th>\n",
              "    </tr>\n",
              "  </thead>\n",
              "  <tbody>\n",
              "    <tr>\n",
              "      <th>fixed acidity</th>\n",
              "      <td>1.000000</td>\n",
              "      <td>-0.256131</td>\n",
              "      <td>0.671703</td>\n",
              "      <td>0.114777</td>\n",
              "      <td>0.093705</td>\n",
              "      <td>-0.153845</td>\n",
              "      <td>-0.113198</td>\n",
              "      <td>0.668047</td>\n",
              "      <td>-0.682978</td>\n",
              "      <td>0.183006</td>\n",
              "      <td>-0.061668</td>\n",
              "      <td>0.095093</td>\n",
              "    </tr>\n",
              "    <tr>\n",
              "      <th>volatile acidity</th>\n",
              "      <td>-0.256131</td>\n",
              "      <td>1.000000</td>\n",
              "      <td>-0.552496</td>\n",
              "      <td>0.001918</td>\n",
              "      <td>0.061298</td>\n",
              "      <td>-0.010592</td>\n",
              "      <td>0.076479</td>\n",
              "      <td>0.022026</td>\n",
              "      <td>0.234937</td>\n",
              "      <td>-0.260987</td>\n",
              "      <td>-0.202288</td>\n",
              "      <td>-0.321441</td>\n",
              "    </tr>\n",
              "    <tr>\n",
              "      <th>citric acid</th>\n",
              "      <td>0.671703</td>\n",
              "      <td>-0.552496</td>\n",
              "      <td>1.000000</td>\n",
              "      <td>0.143577</td>\n",
              "      <td>0.203823</td>\n",
              "      <td>-0.060836</td>\n",
              "      <td>0.035506</td>\n",
              "      <td>0.364947</td>\n",
              "      <td>-0.541904</td>\n",
              "      <td>0.312770</td>\n",
              "      <td>0.109903</td>\n",
              "      <td>0.159129</td>\n",
              "    </tr>\n",
              "    <tr>\n",
              "      <th>residual sugar</th>\n",
              "      <td>0.114777</td>\n",
              "      <td>0.001918</td>\n",
              "      <td>0.143577</td>\n",
              "      <td>1.000000</td>\n",
              "      <td>0.055610</td>\n",
              "      <td>0.187235</td>\n",
              "      <td>0.203048</td>\n",
              "      <td>0.355283</td>\n",
              "      <td>-0.085652</td>\n",
              "      <td>0.005527</td>\n",
              "      <td>0.042075</td>\n",
              "      <td>-0.002160</td>\n",
              "    </tr>\n",
              "    <tr>\n",
              "      <th>chlorides</th>\n",
              "      <td>0.093705</td>\n",
              "      <td>0.061298</td>\n",
              "      <td>0.203823</td>\n",
              "      <td>0.055610</td>\n",
              "      <td>1.000000</td>\n",
              "      <td>0.005599</td>\n",
              "      <td>0.047402</td>\n",
              "      <td>0.200632</td>\n",
              "      <td>-0.265026</td>\n",
              "      <td>0.371260</td>\n",
              "      <td>-0.221141</td>\n",
              "      <td>-0.109494</td>\n",
              "    </tr>\n",
              "    <tr>\n",
              "      <th>free sulfur dioxide</th>\n",
              "      <td>-0.153845</td>\n",
              "      <td>-0.010592</td>\n",
              "      <td>-0.060836</td>\n",
              "      <td>0.187235</td>\n",
              "      <td>0.005599</td>\n",
              "      <td>1.000000</td>\n",
              "      <td>0.668147</td>\n",
              "      <td>-0.022154</td>\n",
              "      <td>0.070254</td>\n",
              "      <td>0.051574</td>\n",
              "      <td>-0.069253</td>\n",
              "      <td>-0.061635</td>\n",
              "    </tr>\n",
              "    <tr>\n",
              "      <th>total sulfur dioxide</th>\n",
              "      <td>-0.113198</td>\n",
              "      <td>0.076479</td>\n",
              "      <td>0.035506</td>\n",
              "      <td>0.203048</td>\n",
              "      <td>0.047402</td>\n",
              "      <td>0.668147</td>\n",
              "      <td>1.000000</td>\n",
              "      <td>0.071256</td>\n",
              "      <td>-0.066507</td>\n",
              "      <td>0.042923</td>\n",
              "      <td>-0.205667</td>\n",
              "      <td>-0.231979</td>\n",
              "    </tr>\n",
              "    <tr>\n",
              "      <th>density</th>\n",
              "      <td>0.668047</td>\n",
              "      <td>0.022026</td>\n",
              "      <td>0.364947</td>\n",
              "      <td>0.355283</td>\n",
              "      <td>0.200632</td>\n",
              "      <td>-0.022154</td>\n",
              "      <td>0.071256</td>\n",
              "      <td>1.000000</td>\n",
              "      <td>-0.341699</td>\n",
              "      <td>0.148506</td>\n",
              "      <td>-0.496180</td>\n",
              "      <td>-0.159110</td>\n",
              "    </tr>\n",
              "    <tr>\n",
              "      <th>pH</th>\n",
              "      <td>-0.682978</td>\n",
              "      <td>0.234937</td>\n",
              "      <td>-0.541904</td>\n",
              "      <td>-0.085652</td>\n",
              "      <td>-0.265026</td>\n",
              "      <td>0.070254</td>\n",
              "      <td>-0.066507</td>\n",
              "      <td>-0.341699</td>\n",
              "      <td>1.000000</td>\n",
              "      <td>-0.196648</td>\n",
              "      <td>0.205633</td>\n",
              "      <td>-0.003264</td>\n",
              "    </tr>\n",
              "    <tr>\n",
              "      <th>sulphates</th>\n",
              "      <td>0.183006</td>\n",
              "      <td>-0.260987</td>\n",
              "      <td>0.312770</td>\n",
              "      <td>0.005527</td>\n",
              "      <td>0.371260</td>\n",
              "      <td>0.051574</td>\n",
              "      <td>0.042923</td>\n",
              "      <td>0.148506</td>\n",
              "      <td>-0.196648</td>\n",
              "      <td>1.000000</td>\n",
              "      <td>0.093595</td>\n",
              "      <td>0.218072</td>\n",
              "    </tr>\n",
              "    <tr>\n",
              "      <th>alcohol</th>\n",
              "      <td>-0.061668</td>\n",
              "      <td>-0.202288</td>\n",
              "      <td>0.109903</td>\n",
              "      <td>0.042075</td>\n",
              "      <td>-0.221141</td>\n",
              "      <td>-0.069253</td>\n",
              "      <td>-0.205667</td>\n",
              "      <td>-0.496180</td>\n",
              "      <td>0.205633</td>\n",
              "      <td>0.093595</td>\n",
              "      <td>1.000000</td>\n",
              "      <td>0.434751</td>\n",
              "    </tr>\n",
              "    <tr>\n",
              "      <th>class</th>\n",
              "      <td>0.095093</td>\n",
              "      <td>-0.321441</td>\n",
              "      <td>0.159129</td>\n",
              "      <td>-0.002160</td>\n",
              "      <td>-0.109494</td>\n",
              "      <td>-0.061635</td>\n",
              "      <td>-0.231979</td>\n",
              "      <td>-0.159110</td>\n",
              "      <td>-0.003264</td>\n",
              "      <td>0.218072</td>\n",
              "      <td>0.434751</td>\n",
              "      <td>1.000000</td>\n",
              "    </tr>\n",
              "  </tbody>\n",
              "</table>\n",
              "</div>"
            ],
            "text/plain": [
              "                      fixed acidity  volatile acidity  citric acid  \\\n",
              "fixed acidity              1.000000         -0.256131     0.671703   \n",
              "volatile acidity          -0.256131          1.000000    -0.552496   \n",
              "citric acid                0.671703         -0.552496     1.000000   \n",
              "residual sugar             0.114777          0.001918     0.143577   \n",
              "chlorides                  0.093705          0.061298     0.203823   \n",
              "free sulfur dioxide       -0.153845         -0.010592    -0.060836   \n",
              "total sulfur dioxide      -0.113198          0.076479     0.035506   \n",
              "density                    0.668047          0.022026     0.364947   \n",
              "pH                        -0.682978          0.234937    -0.541904   \n",
              "sulphates                  0.183006         -0.260987     0.312770   \n",
              "alcohol                   -0.061668         -0.202288     0.109903   \n",
              "class                      0.095093         -0.321441     0.159129   \n",
              "\n",
              "                      residual sugar  chlorides  free sulfur dioxide  \\\n",
              "fixed acidity               0.114777   0.093705            -0.153845   \n",
              "volatile acidity            0.001918   0.061298            -0.010592   \n",
              "citric acid                 0.143577   0.203823            -0.060836   \n",
              "residual sugar              1.000000   0.055610             0.187235   \n",
              "chlorides                   0.055610   1.000000             0.005599   \n",
              "free sulfur dioxide         0.187235   0.005599             1.000000   \n",
              "total sulfur dioxide        0.203048   0.047402             0.668147   \n",
              "density                     0.355283   0.200632            -0.022154   \n",
              "pH                         -0.085652  -0.265026             0.070254   \n",
              "sulphates                   0.005527   0.371260             0.051574   \n",
              "alcohol                     0.042075  -0.221141            -0.069253   \n",
              "class                      -0.002160  -0.109494            -0.061635   \n",
              "\n",
              "                      total sulfur dioxide   density        pH  sulphates  \\\n",
              "fixed acidity                    -0.113198  0.668047 -0.682978   0.183006   \n",
              "volatile acidity                  0.076479  0.022026  0.234937  -0.260987   \n",
              "citric acid                       0.035506  0.364947 -0.541904   0.312770   \n",
              "residual sugar                    0.203048  0.355283 -0.085652   0.005527   \n",
              "chlorides                         0.047402  0.200632 -0.265026   0.371260   \n",
              "free sulfur dioxide               0.668147 -0.022154  0.070254   0.051574   \n",
              "total sulfur dioxide              1.000000  0.071256 -0.066507   0.042923   \n",
              "density                           0.071256  1.000000 -0.341699   0.148506   \n",
              "pH                               -0.066507 -0.341699  1.000000  -0.196648   \n",
              "sulphates                         0.042923  0.148506 -0.196648   1.000000   \n",
              "alcohol                          -0.205667 -0.496180  0.205633   0.093595   \n",
              "class                            -0.231979 -0.159110 -0.003264   0.218072   \n",
              "\n",
              "                       alcohol     class  \n",
              "fixed acidity        -0.061668  0.095093  \n",
              "volatile acidity     -0.202288 -0.321441  \n",
              "citric acid           0.109903  0.159129  \n",
              "residual sugar        0.042075 -0.002160  \n",
              "chlorides            -0.221141 -0.109494  \n",
              "free sulfur dioxide  -0.069253 -0.061635  \n",
              "total sulfur dioxide -0.205667 -0.231979  \n",
              "density              -0.496180 -0.159110  \n",
              "pH                    0.205633 -0.003264  \n",
              "sulphates             0.093595  0.218072  \n",
              "alcohol               1.000000  0.434751  \n",
              "class                 0.434751  1.000000  "
            ]
          },
          "execution_count": 23,
          "metadata": {},
          "output_type": "execute_result"
        }
      ],
      "source": [
        "#Obtenemos la matriz de correlación para saber si existe multicolinealidad entre las variables independientes\n",
        "datosRegLog = df[['fixed acidity',\n",
        " 'volatile acidity',\n",
        " 'citric acid',\n",
        " 'residual sugar',\n",
        " 'chlorides',\n",
        " 'free sulfur dioxide',\n",
        " 'total sulfur dioxide',\n",
        " 'density',\n",
        " 'pH',\n",
        " 'sulphates',\n",
        " 'alcohol',\n",
        " 'class']]\n",
        "datosRegLog.corr()"
      ]
    },
    {
      "cell_type": "code",
      "execution_count": null,
      "id": "10373fda-9b41-43a8-a8f4-5e6796f905fd",
      "metadata": {
        "id": "10373fda-9b41-43a8-a8f4-5e6796f905fd",
        "outputId": "7e7898bf-0375-459d-c677-be73599c0024"
      },
      "outputs": [
        {
          "name": "stdout",
          "output_type": "stream",
          "text": [
            "Optimization terminated successfully.\n",
            "         Current function value: 0.682621\n",
            "         Iterations 4\n"
          ]
        },
        {
          "data": {
            "text/html": [
              "<table class=\"simpletable\">\n",
              "<caption>Logit Regression Results</caption>\n",
              "<tr>\n",
              "  <th>Dep. Variable:</th>         <td>class</td>      <th>  No. Observations:  </th>  <td>  1119</td> \n",
              "</tr>\n",
              "<tr>\n",
              "  <th>Model:</th>                 <td>Logit</td>      <th>  Df Residuals:      </th>  <td>  1117</td> \n",
              "</tr>\n",
              "<tr>\n",
              "  <th>Method:</th>                 <td>MLE</td>       <th>  Df Model:          </th>  <td>     1</td> \n",
              "</tr>\n",
              "<tr>\n",
              "  <th>Date:</th>            <td>Sun, 10 Jul 2022</td> <th>  Pseudo R-squ.:     </th> <td>0.005331</td>\n",
              "</tr>\n",
              "<tr>\n",
              "  <th>Time:</th>                <td>23:27:28</td>     <th>  Log-Likelihood:    </th> <td> -763.85</td>\n",
              "</tr>\n",
              "<tr>\n",
              "  <th>converged:</th>             <td>True</td>       <th>  LL-Null:           </th> <td> -767.95</td>\n",
              "</tr>\n",
              "<tr>\n",
              "  <th>Covariance Type:</th>     <td>nonrobust</td>    <th>  LLR p-value:       </th> <td>0.004219</td>\n",
              "</tr>\n",
              "</table>\n",
              "<table class=\"simpletable\">\n",
              "<tr>\n",
              "        <td></td>           <th>coef</th>     <th>std err</th>      <th>z</th>      <th>P>|z|</th>  <th>[0.025</th>    <th>0.975]</th>  \n",
              "</tr>\n",
              "<tr>\n",
              "  <th>const</th>         <td>   -0.5927</td> <td>    0.298</td> <td>   -1.991</td> <td> 0.047</td> <td>   -1.176</td> <td>   -0.009</td>\n",
              "</tr>\n",
              "<tr>\n",
              "  <th>fixed acidity</th> <td>    0.0996</td> <td>    0.035</td> <td>    2.831</td> <td> 0.005</td> <td>    0.031</td> <td>    0.168</td>\n",
              "</tr>\n",
              "</table>"
            ],
            "text/plain": [
              "<class 'statsmodels.iolib.summary.Summary'>\n",
              "\"\"\"\n",
              "                           Logit Regression Results                           \n",
              "==============================================================================\n",
              "Dep. Variable:                  class   No. Observations:                 1119\n",
              "Model:                          Logit   Df Residuals:                     1117\n",
              "Method:                           MLE   Df Model:                            1\n",
              "Date:                Sun, 10 Jul 2022   Pseudo R-squ.:                0.005331\n",
              "Time:                        23:27:28   Log-Likelihood:                -763.85\n",
              "converged:                       True   LL-Null:                       -767.95\n",
              "Covariance Type:            nonrobust   LLR p-value:                  0.004219\n",
              "=================================================================================\n",
              "                    coef    std err          z      P>|z|      [0.025      0.975]\n",
              "---------------------------------------------------------------------------------\n",
              "const            -0.5927      0.298     -1.991      0.047      -1.176      -0.009\n",
              "fixed acidity     0.0996      0.035      2.831      0.005       0.031       0.168\n",
              "=================================================================================\n",
              "\"\"\""
            ]
          },
          "execution_count": 26,
          "metadata": {},
          "output_type": "execute_result"
        }
      ],
      "source": [
        "#Obtener los signos\n",
        "ytrain = y_train\n",
        "Xtrain = sm.add_constant(X_train[['fixed acidity']])#Agrega el intercepto en un modelo de regresión\n",
        "log_reg = sm.Logit(ytrain, Xtrain).fit()\n",
        "log_reg.summary()"
      ]
    },
    {
      "cell_type": "code",
      "execution_count": null,
      "id": "88794743-5db5-464f-9db1-0448ed3909f6",
      "metadata": {
        "id": "88794743-5db5-464f-9db1-0448ed3909f6",
        "outputId": "fb76ccfb-7673-400c-b17f-21bbbd7cb921"
      },
      "outputs": [
        {
          "name": "stdout",
          "output_type": "stream",
          "text": [
            "Optimization terminated successfully.\n",
            "         Current function value: 0.625228\n",
            "         Iterations 5\n"
          ]
        },
        {
          "data": {
            "text/html": [
              "<table class=\"simpletable\">\n",
              "<caption>Logit Regression Results</caption>\n",
              "<tr>\n",
              "  <th>Dep. Variable:</th>         <td>class</td>      <th>  No. Observations:  </th>  <td>  1119</td>  \n",
              "</tr>\n",
              "<tr>\n",
              "  <th>Model:</th>                 <td>Logit</td>      <th>  Df Residuals:      </th>  <td>  1117</td>  \n",
              "</tr>\n",
              "<tr>\n",
              "  <th>Method:</th>                 <td>MLE</td>       <th>  Df Model:          </th>  <td>     1</td>  \n",
              "</tr>\n",
              "<tr>\n",
              "  <th>Date:</th>            <td>Sun, 10 Jul 2022</td> <th>  Pseudo R-squ.:     </th>  <td>0.08896</td> \n",
              "</tr>\n",
              "<tr>\n",
              "  <th>Time:</th>                <td>23:28:01</td>     <th>  Log-Likelihood:    </th> <td> -699.63</td> \n",
              "</tr>\n",
              "<tr>\n",
              "  <th>converged:</th>             <td>True</td>       <th>  LL-Null:           </th> <td> -767.95</td> \n",
              "</tr>\n",
              "<tr>\n",
              "  <th>Covariance Type:</th>     <td>nonrobust</td>    <th>  LLR p-value:       </th> <td>1.452e-31</td>\n",
              "</tr>\n",
              "</table>\n",
              "<table class=\"simpletable\">\n",
              "<tr>\n",
              "          <td></td>            <th>coef</th>     <th>std err</th>      <th>z</th>      <th>P>|z|</th>  <th>[0.025</th>    <th>0.975]</th>  \n",
              "</tr>\n",
              "<tr>\n",
              "  <th>const</th>            <td>    2.5288</td> <td>    0.225</td> <td>   11.260</td> <td> 0.000</td> <td>    2.089</td> <td>    2.969</td>\n",
              "</tr>\n",
              "<tr>\n",
              "  <th>volatile acidity</th> <td>   -4.3444</td> <td>    0.407</td> <td>  -10.685</td> <td> 0.000</td> <td>   -5.141</td> <td>   -3.548</td>\n",
              "</tr>\n",
              "</table>"
            ],
            "text/plain": [
              "<class 'statsmodels.iolib.summary.Summary'>\n",
              "\"\"\"\n",
              "                           Logit Regression Results                           \n",
              "==============================================================================\n",
              "Dep. Variable:                  class   No. Observations:                 1119\n",
              "Model:                          Logit   Df Residuals:                     1117\n",
              "Method:                           MLE   Df Model:                            1\n",
              "Date:                Sun, 10 Jul 2022   Pseudo R-squ.:                 0.08896\n",
              "Time:                        23:28:01   Log-Likelihood:                -699.63\n",
              "converged:                       True   LL-Null:                       -767.95\n",
              "Covariance Type:            nonrobust   LLR p-value:                 1.452e-31\n",
              "====================================================================================\n",
              "                       coef    std err          z      P>|z|      [0.025      0.975]\n",
              "------------------------------------------------------------------------------------\n",
              "const                2.5288      0.225     11.260      0.000       2.089       2.969\n",
              "volatile acidity    -4.3444      0.407    -10.685      0.000      -5.141      -3.548\n",
              "====================================================================================\n",
              "\"\"\""
            ]
          },
          "execution_count": 27,
          "metadata": {},
          "output_type": "execute_result"
        }
      ],
      "source": [
        "ytrain = y_train\n",
        "Xtrain = sm.add_constant(X_train[['volatile acidity']])#Agrega el intercepto en un modelo de regresión\n",
        "log_reg = sm.Logit(ytrain, Xtrain).fit()\n",
        "log_reg.summary()"
      ]
    },
    {
      "cell_type": "code",
      "execution_count": null,
      "id": "28667d9d-a596-44ae-8e83-279a0f956e01",
      "metadata": {
        "id": "28667d9d-a596-44ae-8e83-279a0f956e01",
        "outputId": "9b6ef50b-b0e6-48bd-ae1f-5c4d8ed27f52"
      },
      "outputs": [
        {
          "name": "stdout",
          "output_type": "stream",
          "text": [
            "Optimization terminated successfully.\n",
            "         Current function value: 0.674251\n",
            "         Iterations 4\n"
          ]
        },
        {
          "data": {
            "text/html": [
              "<table class=\"simpletable\">\n",
              "<caption>Logit Regression Results</caption>\n",
              "<tr>\n",
              "  <th>Dep. Variable:</th>         <td>class</td>      <th>  No. Observations:  </th>  <td>  1119</td>  \n",
              "</tr>\n",
              "<tr>\n",
              "  <th>Model:</th>                 <td>Logit</td>      <th>  Df Residuals:      </th>  <td>  1117</td>  \n",
              "</tr>\n",
              "<tr>\n",
              "  <th>Method:</th>                 <td>MLE</td>       <th>  Df Model:          </th>  <td>     1</td>  \n",
              "</tr>\n",
              "<tr>\n",
              "  <th>Date:</th>            <td>Sun, 10 Jul 2022</td> <th>  Pseudo R-squ.:     </th>  <td>0.01753</td> \n",
              "</tr>\n",
              "<tr>\n",
              "  <th>Time:</th>                <td>23:30:32</td>     <th>  Log-Likelihood:    </th> <td> -754.49</td> \n",
              "</tr>\n",
              "<tr>\n",
              "  <th>converged:</th>             <td>True</td>       <th>  LL-Null:           </th> <td> -767.95</td> \n",
              "</tr>\n",
              "<tr>\n",
              "  <th>Covariance Type:</th>     <td>nonrobust</td>    <th>  LLR p-value:       </th> <td>2.123e-07</td>\n",
              "</tr>\n",
              "</table>\n",
              "<table class=\"simpletable\">\n",
              "<tr>\n",
              "       <td></td>          <th>coef</th>     <th>std err</th>      <th>z</th>      <th>P>|z|</th>  <th>[0.025</th>    <th>0.975]</th>  \n",
              "</tr>\n",
              "<tr>\n",
              "  <th>const</th>       <td>   -0.2059</td> <td>    0.105</td> <td>   -1.970</td> <td> 0.049</td> <td>   -0.411</td> <td>   -0.001</td>\n",
              "</tr>\n",
              "<tr>\n",
              "  <th>citric acid</th> <td>    1.6434</td> <td>    0.322</td> <td>    5.111</td> <td> 0.000</td> <td>    1.013</td> <td>    2.274</td>\n",
              "</tr>\n",
              "</table>"
            ],
            "text/plain": [
              "<class 'statsmodels.iolib.summary.Summary'>\n",
              "\"\"\"\n",
              "                           Logit Regression Results                           \n",
              "==============================================================================\n",
              "Dep. Variable:                  class   No. Observations:                 1119\n",
              "Model:                          Logit   Df Residuals:                     1117\n",
              "Method:                           MLE   Df Model:                            1\n",
              "Date:                Sun, 10 Jul 2022   Pseudo R-squ.:                 0.01753\n",
              "Time:                        23:30:32   Log-Likelihood:                -754.49\n",
              "converged:                       True   LL-Null:                       -767.95\n",
              "Covariance Type:            nonrobust   LLR p-value:                 2.123e-07\n",
              "===============================================================================\n",
              "                  coef    std err          z      P>|z|      [0.025      0.975]\n",
              "-------------------------------------------------------------------------------\n",
              "const          -0.2059      0.105     -1.970      0.049      -0.411      -0.001\n",
              "citric acid     1.6434      0.322      5.111      0.000       1.013       2.274\n",
              "===============================================================================\n",
              "\"\"\""
            ]
          },
          "execution_count": 28,
          "metadata": {},
          "output_type": "execute_result"
        }
      ],
      "source": [
        "ytrain = y_train\n",
        "Xtrain = sm.add_constant(X_train[['citric acid']])#Agrega el intercepto en un modelo de regresión\n",
        "log_reg = sm.Logit(ytrain, Xtrain).fit()\n",
        "log_reg.summary()"
      ]
    },
    {
      "cell_type": "code",
      "execution_count": null,
      "id": "12ccb01c-061a-4027-834b-c812ce783c50",
      "metadata": {
        "id": "12ccb01c-061a-4027-834b-c812ce783c50",
        "outputId": "eb2966c0-f2fe-4dbd-9135-4eb371233998"
      },
      "outputs": [
        {
          "name": "stdout",
          "output_type": "stream",
          "text": [
            "Optimization terminated successfully.\n",
            "         Current function value: 0.686200\n",
            "         Iterations 4\n"
          ]
        },
        {
          "data": {
            "text/html": [
              "<table class=\"simpletable\">\n",
              "<caption>Logit Regression Results</caption>\n",
              "<tr>\n",
              "  <th>Dep. Variable:</th>         <td>class</td>      <th>  No. Observations:  </th>  <td>  1119</td>  \n",
              "</tr>\n",
              "<tr>\n",
              "  <th>Model:</th>                 <td>Logit</td>      <th>  Df Residuals:      </th>  <td>  1117</td>  \n",
              "</tr>\n",
              "<tr>\n",
              "  <th>Method:</th>                 <td>MLE</td>       <th>  Df Model:          </th>  <td>     1</td>  \n",
              "</tr>\n",
              "<tr>\n",
              "  <th>Date:</th>            <td>Sun, 10 Jul 2022</td> <th>  Pseudo R-squ.:     </th> <td>0.0001151</td>\n",
              "</tr>\n",
              "<tr>\n",
              "  <th>Time:</th>                <td>23:30:35</td>     <th>  Log-Likelihood:    </th> <td> -767.86</td> \n",
              "</tr>\n",
              "<tr>\n",
              "  <th>converged:</th>             <td>True</td>       <th>  LL-Null:           </th> <td> -767.95</td> \n",
              "</tr>\n",
              "<tr>\n",
              "  <th>Covariance Type:</th>     <td>nonrobust</td>    <th>  LLR p-value:       </th>  <td>0.6741</td>  \n",
              "</tr>\n",
              "</table>\n",
              "<table class=\"simpletable\">\n",
              "<tr>\n",
              "         <td></td>           <th>coef</th>     <th>std err</th>      <th>z</th>      <th>P>|z|</th>  <th>[0.025</th>    <th>0.975]</th>  \n",
              "</tr>\n",
              "<tr>\n",
              "  <th>const</th>          <td>    0.2818</td> <td>    0.126</td> <td>    2.235</td> <td> 0.025</td> <td>    0.035</td> <td>    0.529</td>\n",
              "</tr>\n",
              "<tr>\n",
              "  <th>residual sugar</th> <td>   -0.0185</td> <td>    0.044</td> <td>   -0.421</td> <td> 0.674</td> <td>   -0.104</td> <td>    0.068</td>\n",
              "</tr>\n",
              "</table>"
            ],
            "text/plain": [
              "<class 'statsmodels.iolib.summary.Summary'>\n",
              "\"\"\"\n",
              "                           Logit Regression Results                           \n",
              "==============================================================================\n",
              "Dep. Variable:                  class   No. Observations:                 1119\n",
              "Model:                          Logit   Df Residuals:                     1117\n",
              "Method:                           MLE   Df Model:                            1\n",
              "Date:                Sun, 10 Jul 2022   Pseudo R-squ.:               0.0001151\n",
              "Time:                        23:30:35   Log-Likelihood:                -767.86\n",
              "converged:                       True   LL-Null:                       -767.95\n",
              "Covariance Type:            nonrobust   LLR p-value:                    0.6741\n",
              "==================================================================================\n",
              "                     coef    std err          z      P>|z|      [0.025      0.975]\n",
              "----------------------------------------------------------------------------------\n",
              "const              0.2818      0.126      2.235      0.025       0.035       0.529\n",
              "residual sugar    -0.0185      0.044     -0.421      0.674      -0.104       0.068\n",
              "==================================================================================\n",
              "\"\"\""
            ]
          },
          "execution_count": 29,
          "metadata": {},
          "output_type": "execute_result"
        }
      ],
      "source": [
        "ytrain = y_train\n",
        "Xtrain = sm.add_constant(X_train[['residual sugar']])#Agrega el intercepto en un modelo de regresión\n",
        "log_reg = sm.Logit(ytrain, Xtrain).fit()\n",
        "log_reg.summary()"
      ]
    },
    {
      "cell_type": "code",
      "execution_count": null,
      "id": "4a109fbd-6bfb-4ec8-97b9-cbee116eeb56",
      "metadata": {
        "id": "4a109fbd-6bfb-4ec8-97b9-cbee116eeb56",
        "outputId": "08f64462-ec32-4947-c710-51551c9c42a9"
      },
      "outputs": [
        {
          "name": "stdout",
          "output_type": "stream",
          "text": [
            "Optimization terminated successfully.\n",
            "         Current function value: 0.677228\n",
            "         Iterations 6\n"
          ]
        },
        {
          "data": {
            "text/html": [
              "<table class=\"simpletable\">\n",
              "<caption>Logit Regression Results</caption>\n",
              "<tr>\n",
              "  <th>Dep. Variable:</th>         <td>class</td>      <th>  No. Observations:  </th>  <td>  1119</td>  \n",
              "</tr>\n",
              "<tr>\n",
              "  <th>Model:</th>                 <td>Logit</td>      <th>  Df Residuals:      </th>  <td>  1117</td>  \n",
              "</tr>\n",
              "<tr>\n",
              "  <th>Method:</th>                 <td>MLE</td>       <th>  Df Model:          </th>  <td>     1</td>  \n",
              "</tr>\n",
              "<tr>\n",
              "  <th>Date:</th>            <td>Sun, 10 Jul 2022</td> <th>  Pseudo R-squ.:     </th>  <td>0.01319</td> \n",
              "</tr>\n",
              "<tr>\n",
              "  <th>Time:</th>                <td>23:30:37</td>     <th>  Log-Likelihood:    </th> <td> -757.82</td> \n",
              "</tr>\n",
              "<tr>\n",
              "  <th>converged:</th>             <td>True</td>       <th>  LL-Null:           </th> <td> -767.95</td> \n",
              "</tr>\n",
              "<tr>\n",
              "  <th>Covariance Type:</th>     <td>nonrobust</td>    <th>  LLR p-value:       </th> <td>6.772e-06</td>\n",
              "</tr>\n",
              "</table>\n",
              "<table class=\"simpletable\">\n",
              "<tr>\n",
              "      <td></td>         <th>coef</th>     <th>std err</th>      <th>z</th>      <th>P>|z|</th>  <th>[0.025</th>    <th>0.975]</th>  \n",
              "</tr>\n",
              "<tr>\n",
              "  <th>const</th>     <td>    0.8110</td> <td>    0.157</td> <td>    5.150</td> <td> 0.000</td> <td>    0.502</td> <td>    1.120</td>\n",
              "</tr>\n",
              "<tr>\n",
              "  <th>chlorides</th> <td>   -6.6618</td> <td>    1.714</td> <td>   -3.888</td> <td> 0.000</td> <td>  -10.020</td> <td>   -3.303</td>\n",
              "</tr>\n",
              "</table>"
            ],
            "text/plain": [
              "<class 'statsmodels.iolib.summary.Summary'>\n",
              "\"\"\"\n",
              "                           Logit Regression Results                           \n",
              "==============================================================================\n",
              "Dep. Variable:                  class   No. Observations:                 1119\n",
              "Model:                          Logit   Df Residuals:                     1117\n",
              "Method:                           MLE   Df Model:                            1\n",
              "Date:                Sun, 10 Jul 2022   Pseudo R-squ.:                 0.01319\n",
              "Time:                        23:30:37   Log-Likelihood:                -757.82\n",
              "converged:                       True   LL-Null:                       -767.95\n",
              "Covariance Type:            nonrobust   LLR p-value:                 6.772e-06\n",
              "==============================================================================\n",
              "                 coef    std err          z      P>|z|      [0.025      0.975]\n",
              "------------------------------------------------------------------------------\n",
              "const          0.8110      0.157      5.150      0.000       0.502       1.120\n",
              "chlorides     -6.6618      1.714     -3.888      0.000     -10.020      -3.303\n",
              "==============================================================================\n",
              "\"\"\""
            ]
          },
          "execution_count": 30,
          "metadata": {},
          "output_type": "execute_result"
        }
      ],
      "source": [
        "ytrain = y_train\n",
        "Xtrain = sm.add_constant(X_train[['chlorides']])#Agrega el intercepto en un modelo de regresión\n",
        "log_reg = sm.Logit(ytrain, Xtrain).fit()\n",
        "log_reg.summary()"
      ]
    },
    {
      "cell_type": "code",
      "execution_count": null,
      "id": "1838f437-2d83-4a8c-9f74-d2951c8915c5",
      "metadata": {
        "id": "1838f437-2d83-4a8c-9f74-d2951c8915c5",
        "outputId": "80f5ba3c-1b13-4fba-88a9-d71fee2ec614"
      },
      "outputs": [
        {
          "name": "stdout",
          "output_type": "stream",
          "text": [
            "Optimization terminated successfully.\n",
            "         Current function value: 0.684573\n",
            "         Iterations 4\n"
          ]
        },
        {
          "data": {
            "text/html": [
              "<table class=\"simpletable\">\n",
              "<caption>Logit Regression Results</caption>\n",
              "<tr>\n",
              "  <th>Dep. Variable:</th>         <td>class</td>      <th>  No. Observations:  </th>  <td>  1119</td> \n",
              "</tr>\n",
              "<tr>\n",
              "  <th>Model:</th>                 <td>Logit</td>      <th>  Df Residuals:      </th>  <td>  1117</td> \n",
              "</tr>\n",
              "<tr>\n",
              "  <th>Method:</th>                 <td>MLE</td>       <th>  Df Model:          </th>  <td>     1</td> \n",
              "</tr>\n",
              "<tr>\n",
              "  <th>Date:</th>            <td>Sun, 10 Jul 2022</td> <th>  Pseudo R-squ.:     </th> <td>0.002485</td>\n",
              "</tr>\n",
              "<tr>\n",
              "  <th>Time:</th>                <td>23:30:40</td>     <th>  Log-Likelihood:    </th> <td> -766.04</td>\n",
              "</tr>\n",
              "<tr>\n",
              "  <th>converged:</th>             <td>True</td>       <th>  LL-Null:           </th> <td> -767.95</td>\n",
              "</tr>\n",
              "<tr>\n",
              "  <th>Covariance Type:</th>     <td>nonrobust</td>    <th>  LLR p-value:       </th>  <td>0.05072</td>\n",
              "</tr>\n",
              "</table>\n",
              "<table class=\"simpletable\">\n",
              "<tr>\n",
              "           <td></td>              <th>coef</th>     <th>std err</th>      <th>z</th>      <th>P>|z|</th>  <th>[0.025</th>    <th>0.975]</th>  \n",
              "</tr>\n",
              "<tr>\n",
              "  <th>const</th>               <td>    0.4094</td> <td>    0.108</td> <td>    3.793</td> <td> 0.000</td> <td>    0.198</td> <td>    0.621</td>\n",
              "</tr>\n",
              "<tr>\n",
              "  <th>free sulfur dioxide</th> <td>   -0.0109</td> <td>    0.006</td> <td>   -1.951</td> <td> 0.051</td> <td>   -0.022</td> <td> 5.16e-05</td>\n",
              "</tr>\n",
              "</table>"
            ],
            "text/plain": [
              "<class 'statsmodels.iolib.summary.Summary'>\n",
              "\"\"\"\n",
              "                           Logit Regression Results                           \n",
              "==============================================================================\n",
              "Dep. Variable:                  class   No. Observations:                 1119\n",
              "Model:                          Logit   Df Residuals:                     1117\n",
              "Method:                           MLE   Df Model:                            1\n",
              "Date:                Sun, 10 Jul 2022   Pseudo R-squ.:                0.002485\n",
              "Time:                        23:30:40   Log-Likelihood:                -766.04\n",
              "converged:                       True   LL-Null:                       -767.95\n",
              "Covariance Type:            nonrobust   LLR p-value:                   0.05072\n",
              "=======================================================================================\n",
              "                          coef    std err          z      P>|z|      [0.025      0.975]\n",
              "---------------------------------------------------------------------------------------\n",
              "const                   0.4094      0.108      3.793      0.000       0.198       0.621\n",
              "free sulfur dioxide    -0.0109      0.006     -1.951      0.051      -0.022    5.16e-05\n",
              "=======================================================================================\n",
              "\"\"\""
            ]
          },
          "execution_count": 31,
          "metadata": {},
          "output_type": "execute_result"
        }
      ],
      "source": [
        "ytrain = y_train\n",
        "Xtrain = sm.add_constant(X_train[['free sulfur dioxide']])#Agrega el intercepto en un modelo de regresión\n",
        "log_reg = sm.Logit(ytrain, Xtrain).fit()\n",
        "log_reg.summary()"
      ]
    },
    {
      "cell_type": "code",
      "execution_count": null,
      "id": "bcbd6d19-32f3-4763-942d-65925a91eec5",
      "metadata": {
        "id": "bcbd6d19-32f3-4763-942d-65925a91eec5",
        "outputId": "7168abd5-0e8d-47eb-89f9-9673e3c67886"
      },
      "outputs": [
        {
          "name": "stdout",
          "output_type": "stream",
          "text": [
            "Optimization terminated successfully.\n",
            "         Current function value: 0.657152\n",
            "         Iterations 5\n"
          ]
        },
        {
          "data": {
            "text/html": [
              "<table class=\"simpletable\">\n",
              "<caption>Logit Regression Results</caption>\n",
              "<tr>\n",
              "  <th>Dep. Variable:</th>         <td>class</td>      <th>  No. Observations:  </th>  <td>  1119</td>  \n",
              "</tr>\n",
              "<tr>\n",
              "  <th>Model:</th>                 <td>Logit</td>      <th>  Df Residuals:      </th>  <td>  1117</td>  \n",
              "</tr>\n",
              "<tr>\n",
              "  <th>Method:</th>                 <td>MLE</td>       <th>  Df Model:          </th>  <td>     1</td>  \n",
              "</tr>\n",
              "<tr>\n",
              "  <th>Date:</th>            <td>Sun, 10 Jul 2022</td> <th>  Pseudo R-squ.:     </th>  <td>0.04244</td> \n",
              "</tr>\n",
              "<tr>\n",
              "  <th>Time:</th>                <td>23:30:43</td>     <th>  Log-Likelihood:    </th> <td> -735.35</td> \n",
              "</tr>\n",
              "<tr>\n",
              "  <th>converged:</th>             <td>True</td>       <th>  LL-Null:           </th> <td> -767.95</td> \n",
              "</tr>\n",
              "<tr>\n",
              "  <th>Covariance Type:</th>     <td>nonrobust</td>    <th>  LLR p-value:       </th> <td>6.816e-16</td>\n",
              "</tr>\n",
              "</table>\n",
              "<table class=\"simpletable\">\n",
              "<tr>\n",
              "            <td></td>              <th>coef</th>     <th>std err</th>      <th>z</th>      <th>P>|z|</th>  <th>[0.025</th>    <th>0.975]</th>  \n",
              "</tr>\n",
              "<tr>\n",
              "  <th>const</th>                <td>    0.9605</td> <td>    0.112</td> <td>    8.591</td> <td> 0.000</td> <td>    0.741</td> <td>    1.180</td>\n",
              "</tr>\n",
              "<tr>\n",
              "  <th>total sulfur dioxide</th> <td>   -0.0159</td> <td>    0.002</td> <td>   -7.705</td> <td> 0.000</td> <td>   -0.020</td> <td>   -0.012</td>\n",
              "</tr>\n",
              "</table>"
            ],
            "text/plain": [
              "<class 'statsmodels.iolib.summary.Summary'>\n",
              "\"\"\"\n",
              "                           Logit Regression Results                           \n",
              "==============================================================================\n",
              "Dep. Variable:                  class   No. Observations:                 1119\n",
              "Model:                          Logit   Df Residuals:                     1117\n",
              "Method:                           MLE   Df Model:                            1\n",
              "Date:                Sun, 10 Jul 2022   Pseudo R-squ.:                 0.04244\n",
              "Time:                        23:30:43   Log-Likelihood:                -735.35\n",
              "converged:                       True   LL-Null:                       -767.95\n",
              "Covariance Type:            nonrobust   LLR p-value:                 6.816e-16\n",
              "========================================================================================\n",
              "                           coef    std err          z      P>|z|      [0.025      0.975]\n",
              "----------------------------------------------------------------------------------------\n",
              "const                    0.9605      0.112      8.591      0.000       0.741       1.180\n",
              "total sulfur dioxide    -0.0159      0.002     -7.705      0.000      -0.020      -0.012\n",
              "========================================================================================\n",
              "\"\"\""
            ]
          },
          "execution_count": 32,
          "metadata": {},
          "output_type": "execute_result"
        }
      ],
      "source": [
        "ytrain = y_train\n",
        "Xtrain = sm.add_constant(X_train[['total sulfur dioxide']])#Agrega el intercepto en un modelo de regresión\n",
        "log_reg = sm.Logit(ytrain, Xtrain).fit()\n",
        "log_reg.summary()"
      ]
    },
    {
      "cell_type": "code",
      "execution_count": null,
      "id": "becdd97c-edb3-42d3-af6f-0dd15a006f37",
      "metadata": {
        "id": "becdd97c-edb3-42d3-af6f-0dd15a006f37",
        "outputId": "e4a76ec8-7c58-4bdf-ef62-ac7a2709d949"
      },
      "outputs": [
        {
          "name": "stdout",
          "output_type": "stream",
          "text": [
            "Optimization terminated successfully.\n",
            "         Current function value: 0.673219\n",
            "         Iterations 5\n"
          ]
        },
        {
          "data": {
            "text/html": [
              "<table class=\"simpletable\">\n",
              "<caption>Logit Regression Results</caption>\n",
              "<tr>\n",
              "  <th>Dep. Variable:</th>         <td>class</td>      <th>  No. Observations:  </th>  <td>  1119</td>  \n",
              "</tr>\n",
              "<tr>\n",
              "  <th>Model:</th>                 <td>Logit</td>      <th>  Df Residuals:      </th>  <td>  1117</td>  \n",
              "</tr>\n",
              "<tr>\n",
              "  <th>Method:</th>                 <td>MLE</td>       <th>  Df Model:          </th>  <td>     1</td>  \n",
              "</tr>\n",
              "<tr>\n",
              "  <th>Date:</th>            <td>Sun, 10 Jul 2022</td> <th>  Pseudo R-squ.:     </th>  <td>0.01903</td> \n",
              "</tr>\n",
              "<tr>\n",
              "  <th>Time:</th>                <td>23:31:00</td>     <th>  Log-Likelihood:    </th> <td> -753.33</td> \n",
              "</tr>\n",
              "<tr>\n",
              "  <th>converged:</th>             <td>True</td>       <th>  LL-Null:           </th> <td> -767.95</td> \n",
              "</tr>\n",
              "<tr>\n",
              "  <th>Covariance Type:</th>     <td>nonrobust</td>    <th>  LLR p-value:       </th> <td>6.431e-08</td>\n",
              "</tr>\n",
              "</table>\n",
              "<table class=\"simpletable\">\n",
              "<tr>\n",
              "     <td></td>        <th>coef</th>     <th>std err</th>      <th>z</th>      <th>P>|z|</th>  <th>[0.025</th>    <th>0.975]</th>  \n",
              "</tr>\n",
              "<tr>\n",
              "  <th>const</th>   <td>  173.9914</td> <td>   32.948</td> <td>    5.281</td> <td> 0.000</td> <td>  109.415</td> <td>  238.568</td>\n",
              "</tr>\n",
              "<tr>\n",
              "  <th>density</th> <td> -174.3206</td> <td>   33.054</td> <td>   -5.274</td> <td> 0.000</td> <td> -239.105</td> <td> -109.536</td>\n",
              "</tr>\n",
              "</table>"
            ],
            "text/plain": [
              "<class 'statsmodels.iolib.summary.Summary'>\n",
              "\"\"\"\n",
              "                           Logit Regression Results                           \n",
              "==============================================================================\n",
              "Dep. Variable:                  class   No. Observations:                 1119\n",
              "Model:                          Logit   Df Residuals:                     1117\n",
              "Method:                           MLE   Df Model:                            1\n",
              "Date:                Sun, 10 Jul 2022   Pseudo R-squ.:                 0.01903\n",
              "Time:                        23:31:00   Log-Likelihood:                -753.33\n",
              "converged:                       True   LL-Null:                       -767.95\n",
              "Covariance Type:            nonrobust   LLR p-value:                 6.431e-08\n",
              "==============================================================================\n",
              "                 coef    std err          z      P>|z|      [0.025      0.975]\n",
              "------------------------------------------------------------------------------\n",
              "const        173.9914     32.948      5.281      0.000     109.415     238.568\n",
              "density     -174.3206     33.054     -5.274      0.000    -239.105    -109.536\n",
              "==============================================================================\n",
              "\"\"\""
            ]
          },
          "execution_count": 33,
          "metadata": {},
          "output_type": "execute_result"
        }
      ],
      "source": [
        "ytrain = y_train\n",
        "Xtrain = sm.add_constant(X_train[['density']])#Agrega el intercepto en un modelo de regresión\n",
        "log_reg = sm.Logit(ytrain, Xtrain).fit()\n",
        "log_reg.summary()"
      ]
    },
    {
      "cell_type": "code",
      "execution_count": null,
      "id": "6fe87850-fafc-414b-bc3f-ac2cf7dc4365",
      "metadata": {
        "id": "6fe87850-fafc-414b-bc3f-ac2cf7dc4365",
        "outputId": "9ed00a17-49a9-4e2a-89ab-06675ce856da"
      },
      "outputs": [
        {
          "name": "stdout",
          "output_type": "stream",
          "text": [
            "Optimization terminated successfully.\n",
            "         Current function value: 0.686138\n",
            "         Iterations 4\n"
          ]
        },
        {
          "data": {
            "text/html": [
              "<table class=\"simpletable\">\n",
              "<caption>Logit Regression Results</caption>\n",
              "<tr>\n",
              "  <th>Dep. Variable:</th>         <td>class</td>      <th>  No. Observations:  </th>  <td>  1119</td>  \n",
              "</tr>\n",
              "<tr>\n",
              "  <th>Model:</th>                 <td>Logit</td>      <th>  Df Residuals:      </th>  <td>  1117</td>  \n",
              "</tr>\n",
              "<tr>\n",
              "  <th>Method:</th>                 <td>MLE</td>       <th>  Df Model:          </th>  <td>     1</td>  \n",
              "</tr>\n",
              "<tr>\n",
              "  <th>Date:</th>            <td>Sun, 10 Jul 2022</td> <th>  Pseudo R-squ.:     </th> <td>0.0002060</td>\n",
              "</tr>\n",
              "<tr>\n",
              "  <th>Time:</th>                <td>23:31:02</td>     <th>  Log-Likelihood:    </th> <td> -767.79</td> \n",
              "</tr>\n",
              "<tr>\n",
              "  <th>converged:</th>             <td>True</td>       <th>  LL-Null:           </th> <td> -767.95</td> \n",
              "</tr>\n",
              "<tr>\n",
              "  <th>Covariance Type:</th>     <td>nonrobust</td>    <th>  LLR p-value:       </th>  <td>0.5738</td>  \n",
              "</tr>\n",
              "</table>\n",
              "<table class=\"simpletable\">\n",
              "<tr>\n",
              "    <td></td>       <th>coef</th>     <th>std err</th>      <th>z</th>      <th>P>|z|</th>  <th>[0.025</th>    <th>0.975]</th>  \n",
              "</tr>\n",
              "<tr>\n",
              "  <th>const</th> <td>   -0.4959</td> <td>    1.301</td> <td>   -0.381</td> <td> 0.703</td> <td>   -3.047</td> <td>    2.055</td>\n",
              "</tr>\n",
              "<tr>\n",
              "  <th>pH</th>    <td>    0.2208</td> <td>    0.393</td> <td>    0.562</td> <td> 0.574</td> <td>   -0.549</td> <td>    0.990</td>\n",
              "</tr>\n",
              "</table>"
            ],
            "text/plain": [
              "<class 'statsmodels.iolib.summary.Summary'>\n",
              "\"\"\"\n",
              "                           Logit Regression Results                           \n",
              "==============================================================================\n",
              "Dep. Variable:                  class   No. Observations:                 1119\n",
              "Model:                          Logit   Df Residuals:                     1117\n",
              "Method:                           MLE   Df Model:                            1\n",
              "Date:                Sun, 10 Jul 2022   Pseudo R-squ.:               0.0002060\n",
              "Time:                        23:31:02   Log-Likelihood:                -767.79\n",
              "converged:                       True   LL-Null:                       -767.95\n",
              "Covariance Type:            nonrobust   LLR p-value:                    0.5738\n",
              "==============================================================================\n",
              "                 coef    std err          z      P>|z|      [0.025      0.975]\n",
              "------------------------------------------------------------------------------\n",
              "const         -0.4959      1.301     -0.381      0.703      -3.047       2.055\n",
              "pH             0.2208      0.393      0.562      0.574      -0.549       0.990\n",
              "==============================================================================\n",
              "\"\"\""
            ]
          },
          "execution_count": 34,
          "metadata": {},
          "output_type": "execute_result"
        }
      ],
      "source": [
        "ytrain = y_train\n",
        "Xtrain = sm.add_constant(X_train[['pH']])#Agrega el intercepto en un modelo de regresión\n",
        "log_reg = sm.Logit(ytrain, Xtrain).fit()\n",
        "log_reg.summary()"
      ]
    },
    {
      "cell_type": "code",
      "execution_count": null,
      "id": "2812614b-db08-44f1-91aa-8e398d16e814",
      "metadata": {
        "id": "2812614b-db08-44f1-91aa-8e398d16e814",
        "outputId": "1a2bc1ba-2d86-4174-888c-ca45eef2cc6c"
      },
      "outputs": [
        {
          "name": "stdout",
          "output_type": "stream",
          "text": [
            "Optimization terminated successfully.\n",
            "         Current function value: 0.662930\n",
            "         Iterations 5\n"
          ]
        },
        {
          "data": {
            "text/html": [
              "<table class=\"simpletable\">\n",
              "<caption>Logit Regression Results</caption>\n",
              "<tr>\n",
              "  <th>Dep. Variable:</th>         <td>class</td>      <th>  No. Observations:  </th>  <td>  1119</td>  \n",
              "</tr>\n",
              "<tr>\n",
              "  <th>Model:</th>                 <td>Logit</td>      <th>  Df Residuals:      </th>  <td>  1117</td>  \n",
              "</tr>\n",
              "<tr>\n",
              "  <th>Method:</th>                 <td>MLE</td>       <th>  Df Model:          </th>  <td>     1</td>  \n",
              "</tr>\n",
              "<tr>\n",
              "  <th>Date:</th>            <td>Sun, 10 Jul 2022</td> <th>  Pseudo R-squ.:     </th>  <td>0.03402</td> \n",
              "</tr>\n",
              "<tr>\n",
              "  <th>Time:</th>                <td>23:31:06</td>     <th>  Log-Likelihood:    </th> <td> -741.82</td> \n",
              "</tr>\n",
              "<tr>\n",
              "  <th>converged:</th>             <td>True</td>       <th>  LL-Null:           </th> <td> -767.95</td> \n",
              "</tr>\n",
              "<tr>\n",
              "  <th>Covariance Type:</th>     <td>nonrobust</td>    <th>  LLR p-value:       </th> <td>4.873e-13</td>\n",
              "</tr>\n",
              "</table>\n",
              "<table class=\"simpletable\">\n",
              "<tr>\n",
              "      <td></td>         <th>coef</th>     <th>std err</th>      <th>z</th>      <th>P>|z|</th>  <th>[0.025</th>    <th>0.975]</th>  \n",
              "</tr>\n",
              "<tr>\n",
              "  <th>const</th>     <td>   -1.7013</td> <td>    0.298</td> <td>   -5.717</td> <td> 0.000</td> <td>   -2.285</td> <td>   -1.118</td>\n",
              "</tr>\n",
              "<tr>\n",
              "  <th>sulphates</th> <td>    2.9711</td> <td>    0.453</td> <td>    6.552</td> <td> 0.000</td> <td>    2.082</td> <td>    3.860</td>\n",
              "</tr>\n",
              "</table>"
            ],
            "text/plain": [
              "<class 'statsmodels.iolib.summary.Summary'>\n",
              "\"\"\"\n",
              "                           Logit Regression Results                           \n",
              "==============================================================================\n",
              "Dep. Variable:                  class   No. Observations:                 1119\n",
              "Model:                          Logit   Df Residuals:                     1117\n",
              "Method:                           MLE   Df Model:                            1\n",
              "Date:                Sun, 10 Jul 2022   Pseudo R-squ.:                 0.03402\n",
              "Time:                        23:31:06   Log-Likelihood:                -741.82\n",
              "converged:                       True   LL-Null:                       -767.95\n",
              "Covariance Type:            nonrobust   LLR p-value:                 4.873e-13\n",
              "==============================================================================\n",
              "                 coef    std err          z      P>|z|      [0.025      0.975]\n",
              "------------------------------------------------------------------------------\n",
              "const         -1.7013      0.298     -5.717      0.000      -2.285      -1.118\n",
              "sulphates      2.9711      0.453      6.552      0.000       2.082       3.860\n",
              "==============================================================================\n",
              "\"\"\""
            ]
          },
          "execution_count": 35,
          "metadata": {},
          "output_type": "execute_result"
        }
      ],
      "source": [
        "ytrain = y_train\n",
        "Xtrain = sm.add_constant(X_train[['sulphates']])#Agrega el intercepto en un modelo de regresión\n",
        "log_reg = sm.Logit(ytrain, Xtrain).fit()\n",
        "log_reg.summary()"
      ]
    },
    {
      "cell_type": "code",
      "execution_count": null,
      "id": "d0636da6-8717-43c4-8171-7fcd5564922e",
      "metadata": {
        "id": "d0636da6-8717-43c4-8171-7fcd5564922e",
        "outputId": "a69d935a-046a-43d0-e4ab-cb282fe57337"
      },
      "outputs": [
        {
          "name": "stdout",
          "output_type": "stream",
          "text": [
            "Optimization terminated successfully.\n",
            "         Current function value: 0.581712\n",
            "         Iterations 6\n"
          ]
        },
        {
          "data": {
            "text/html": [
              "<table class=\"simpletable\">\n",
              "<caption>Logit Regression Results</caption>\n",
              "<tr>\n",
              "  <th>Dep. Variable:</th>         <td>class</td>      <th>  No. Observations:  </th>  <td>  1119</td>  \n",
              "</tr>\n",
              "<tr>\n",
              "  <th>Model:</th>                 <td>Logit</td>      <th>  Df Residuals:      </th>  <td>  1117</td>  \n",
              "</tr>\n",
              "<tr>\n",
              "  <th>Method:</th>                 <td>MLE</td>       <th>  Df Model:          </th>  <td>     1</td>  \n",
              "</tr>\n",
              "<tr>\n",
              "  <th>Date:</th>            <td>Sun, 10 Jul 2022</td> <th>  Pseudo R-squ.:     </th>  <td>0.1524</td>  \n",
              "</tr>\n",
              "<tr>\n",
              "  <th>Time:</th>                <td>23:31:08</td>     <th>  Log-Likelihood:    </th> <td> -650.94</td> \n",
              "</tr>\n",
              "<tr>\n",
              "  <th>converged:</th>             <td>True</td>       <th>  LL-Null:           </th> <td> -767.95</td> \n",
              "</tr>\n",
              "<tr>\n",
              "  <th>Covariance Type:</th>     <td>nonrobust</td>    <th>  LLR p-value:       </th> <td>7.919e-53</td>\n",
              "</tr>\n",
              "</table>\n",
              "<table class=\"simpletable\">\n",
              "<tr>\n",
              "     <td></td>        <th>coef</th>     <th>std err</th>      <th>z</th>      <th>P>|z|</th>  <th>[0.025</th>    <th>0.975]</th>  \n",
              "</tr>\n",
              "<tr>\n",
              "  <th>const</th>   <td>  -10.4550</td> <td>    0.813</td> <td>  -12.866</td> <td> 0.000</td> <td>  -12.048</td> <td>   -8.862</td>\n",
              "</tr>\n",
              "<tr>\n",
              "  <th>alcohol</th> <td>    1.0331</td> <td>    0.079</td> <td>   13.044</td> <td> 0.000</td> <td>    0.878</td> <td>    1.188</td>\n",
              "</tr>\n",
              "</table>"
            ],
            "text/plain": [
              "<class 'statsmodels.iolib.summary.Summary'>\n",
              "\"\"\"\n",
              "                           Logit Regression Results                           \n",
              "==============================================================================\n",
              "Dep. Variable:                  class   No. Observations:                 1119\n",
              "Model:                          Logit   Df Residuals:                     1117\n",
              "Method:                           MLE   Df Model:                            1\n",
              "Date:                Sun, 10 Jul 2022   Pseudo R-squ.:                  0.1524\n",
              "Time:                        23:31:08   Log-Likelihood:                -650.94\n",
              "converged:                       True   LL-Null:                       -767.95\n",
              "Covariance Type:            nonrobust   LLR p-value:                 7.919e-53\n",
              "==============================================================================\n",
              "                 coef    std err          z      P>|z|      [0.025      0.975]\n",
              "------------------------------------------------------------------------------\n",
              "const        -10.4550      0.813    -12.866      0.000     -12.048      -8.862\n",
              "alcohol        1.0331      0.079     13.044      0.000       0.878       1.188\n",
              "==============================================================================\n",
              "\"\"\""
            ]
          },
          "execution_count": 36,
          "metadata": {},
          "output_type": "execute_result"
        }
      ],
      "source": [
        "ytrain = y_train\n",
        "Xtrain = sm.add_constant(X_train[['alcohol']])#Agrega el intercepto en un modelo de regresión\n",
        "log_reg = sm.Logit(ytrain, Xtrain).fit()\n",
        "log_reg.summary()"
      ]
    },
    {
      "cell_type": "code",
      "execution_count": null,
      "id": "d3467b6b-cb11-477f-a710-90eb2da622ea",
      "metadata": {
        "id": "d3467b6b-cb11-477f-a710-90eb2da622ea",
        "outputId": "7994b75d-47c0-4fb6-a1ed-bbc62d6f96c2"
      },
      "outputs": [
        {
          "name": "stdout",
          "output_type": "stream",
          "text": [
            "Optimization terminated successfully.\n",
            "         Current function value: 0.514704\n",
            "         Iterations 6\n"
          ]
        },
        {
          "data": {
            "text/html": [
              "<table class=\"simpletable\">\n",
              "<caption>Logit Regression Results</caption>\n",
              "<tr>\n",
              "  <th>Dep. Variable:</th>         <td>class</td>      <th>  No. Observations:  </th>  <td>  1119</td>  \n",
              "</tr>\n",
              "<tr>\n",
              "  <th>Model:</th>                 <td>Logit</td>      <th>  Df Residuals:      </th>  <td>  1113</td>  \n",
              "</tr>\n",
              "<tr>\n",
              "  <th>Method:</th>                 <td>MLE</td>       <th>  Df Model:          </th>  <td>     5</td>  \n",
              "</tr>\n",
              "<tr>\n",
              "  <th>Date:</th>            <td>Sun, 10 Jul 2022</td> <th>  Pseudo R-squ.:     </th>  <td>0.2500</td>  \n",
              "</tr>\n",
              "<tr>\n",
              "  <th>Time:</th>                <td>23:35:40</td>     <th>  Log-Likelihood:    </th> <td> -575.95</td> \n",
              "</tr>\n",
              "<tr>\n",
              "  <th>converged:</th>             <td>True</td>       <th>  LL-Null:           </th> <td> -767.95</td> \n",
              "</tr>\n",
              "<tr>\n",
              "  <th>Covariance Type:</th>     <td>nonrobust</td>    <th>  LLR p-value:       </th> <td>8.383e-81</td>\n",
              "</tr>\n",
              "</table>\n",
              "<table class=\"simpletable\">\n",
              "<tr>\n",
              "            <td></td>              <th>coef</th>     <th>std err</th>      <th>z</th>      <th>P>|z|</th>  <th>[0.025</th>    <th>0.975]</th>  \n",
              "</tr>\n",
              "<tr>\n",
              "  <th>const</th>                <td>   -7.3827</td> <td>    0.962</td> <td>   -7.672</td> <td> 0.000</td> <td>   -9.269</td> <td>   -5.497</td>\n",
              "</tr>\n",
              "<tr>\n",
              "  <th>volatile acidity</th>     <td>   -3.3268</td> <td>    0.450</td> <td>   -7.391</td> <td> 0.000</td> <td>   -4.209</td> <td>   -2.445</td>\n",
              "</tr>\n",
              "<tr>\n",
              "  <th>chlorides</th>            <td>   -5.6977</td> <td>    1.750</td> <td>   -3.255</td> <td> 0.001</td> <td>   -9.129</td> <td>   -2.267</td>\n",
              "</tr>\n",
              "<tr>\n",
              "  <th>total sulfur dioxide</th> <td>   -0.0132</td> <td>    0.002</td> <td>   -5.315</td> <td> 0.000</td> <td>   -0.018</td> <td>   -0.008</td>\n",
              "</tr>\n",
              "<tr>\n",
              "  <th>sulphates</th>            <td>    2.7251</td> <td>    0.511</td> <td>    5.335</td> <td> 0.000</td> <td>    1.724</td> <td>    3.726</td>\n",
              "</tr>\n",
              "<tr>\n",
              "  <th>alcohol</th>              <td>    0.8407</td> <td>    0.084</td> <td>    9.979</td> <td> 0.000</td> <td>    0.676</td> <td>    1.006</td>\n",
              "</tr>\n",
              "</table>"
            ],
            "text/plain": [
              "<class 'statsmodels.iolib.summary.Summary'>\n",
              "\"\"\"\n",
              "                           Logit Regression Results                           \n",
              "==============================================================================\n",
              "Dep. Variable:                  class   No. Observations:                 1119\n",
              "Model:                          Logit   Df Residuals:                     1113\n",
              "Method:                           MLE   Df Model:                            5\n",
              "Date:                Sun, 10 Jul 2022   Pseudo R-squ.:                  0.2500\n",
              "Time:                        23:35:40   Log-Likelihood:                -575.95\n",
              "converged:                       True   LL-Null:                       -767.95\n",
              "Covariance Type:            nonrobust   LLR p-value:                 8.383e-81\n",
              "========================================================================================\n",
              "                           coef    std err          z      P>|z|      [0.025      0.975]\n",
              "----------------------------------------------------------------------------------------\n",
              "const                   -7.3827      0.962     -7.672      0.000      -9.269      -5.497\n",
              "volatile acidity        -3.3268      0.450     -7.391      0.000      -4.209      -2.445\n",
              "chlorides               -5.6977      1.750     -3.255      0.001      -9.129      -2.267\n",
              "total sulfur dioxide    -0.0132      0.002     -5.315      0.000      -0.018      -0.008\n",
              "sulphates                2.7251      0.511      5.335      0.000       1.724       3.726\n",
              "alcohol                  0.8407      0.084      9.979      0.000       0.676       1.006\n",
              "========================================================================================\n",
              "\"\"\""
            ]
          },
          "execution_count": 38,
          "metadata": {},
          "output_type": "execute_result"
        }
      ],
      "source": [
        "#Modelo final congruente\n",
        "ytrain = y_train\n",
        "Xtrain = sm.add_constant(X_train[[\n",
        " 'volatile acidity',\n",
        " 'chlorides',\n",
        " 'total sulfur dioxide',\n",
        " 'sulphates',\n",
        " 'alcohol'\n",
        "]])#Agrega el intercepto en un modelo de regresión\n",
        "log_reg = sm.Logit(ytrain, Xtrain).fit()\n",
        "log_reg.summary()"
      ]
    },
    {
      "cell_type": "markdown",
      "id": "d9853c17-c8a4-4c24-a039-5a56a7cb9bce",
      "metadata": {
        "id": "d9853c17-c8a4-4c24-a039-5a56a7cb9bce"
      },
      "source": [
        "## Evaluación del modelo de regresión logística"
      ]
    },
    {
      "cell_type": "code",
      "execution_count": null,
      "id": "31e4b757-ea1d-4e75-b3be-e10dc708f70c",
      "metadata": {
        "id": "31e4b757-ea1d-4e75-b3be-e10dc708f70c",
        "outputId": "b5d5050a-b99f-4efb-ef7e-a1e7ede1272c"
      },
      "outputs": [
        {
          "name": "stdout",
          "output_type": "stream",
          "text": [
            "Valores actuales [1, 0, 1, 0, 1, 1, 0, 0, 0, 0, 0, 0, 1, 1, 1, 0, 0, 1, 0, 1, 0, 1, 1, 0, 0, 0, 0, 0, 0, 0, 1, 0, 0, 1, 0, 1, 1, 1, 0, 0, 0, 1, 0, 1, 0, 1, 0, 0, 0, 0, 0, 1, 1, 0, 0, 0, 0, 0, 1, 1, 0, 0, 0, 1, 0, 0, 1, 0, 1, 0, 1, 1, 1, 1, 0, 1, 0, 0, 0, 0, 0, 1, 1, 0, 0, 0, 1, 0, 0, 0, 0, 1, 0, 1, 0, 1, 1, 0, 0, 0, 0, 1, 1, 1, 0, 0, 1, 1, 0, 0, 0, 0, 1, 1, 1, 0, 0, 0, 1, 0, 1, 0, 1, 0, 1, 1, 0, 1, 0, 0, 0, 1, 0, 0, 0, 1, 0, 1, 0, 0, 0, 1, 1, 0, 1, 0, 0, 0, 1, 0, 0, 0, 1, 0, 1, 0, 0, 0, 0, 0, 0, 1, 1, 0, 1, 1, 1, 1, 1, 1, 1, 1, 0, 0, 0, 1, 0, 0, 1, 1, 0, 1, 0, 0, 0, 0, 1, 0, 0, 1, 1, 1, 1, 0, 1, 1, 0, 1, 1, 1, 0, 1, 1, 0, 1, 1, 0, 1, 0, 1, 0, 1, 1, 0, 1, 1, 0, 1, 1, 0, 1, 1, 0, 0, 0, 0, 0, 0, 1, 1, 1, 0, 1, 0, 0, 0, 1, 0, 0, 1, 1, 0, 1, 1, 0, 0, 1, 1, 1, 0, 1, 0, 0, 1, 1, 0, 1, 0, 0, 1, 0, 0, 1, 1, 0, 0, 0, 0, 0, 0, 0, 1, 1, 1, 1, 0, 1, 0, 1, 0, 0, 0, 0, 0, 0, 0, 1, 0, 0, 0, 0, 0, 1, 0, 1, 1, 0, 1, 1, 0, 1, 1, 1, 0, 0, 1, 1, 0, 1, 1, 1, 0, 1, 0, 1, 0, 0, 1, 0, 1, 1, 1, 1, 1, 1, 1, 1, 1, 1, 1, 0, 0, 1, 0, 0, 1, 1, 1, 0, 1, 0, 0, 0, 1, 1, 1, 0, 1, 0, 1, 0, 0, 1, 1, 1, 1, 1, 1, 1, 0, 1, 0, 0, 0, 0, 0, 0, 0, 0, 0, 0, 1, 1, 0, 1, 1, 1, 0, 1, 0, 1, 0, 1, 0, 1, 0, 1, 1, 1, 1, 0, 1, 0, 0, 0, 0, 0, 1, 1, 1, 1, 1, 0, 1, 0, 1, 0, 1, 0, 1, 1, 0, 0, 0, 1, 1, 0, 1, 0, 0, 0, 1, 0, 1, 1, 1, 1, 1, 0, 1, 1, 1, 1, 1, 1, 0, 1, 0, 1, 1, 0, 1, 1, 0, 0, 0, 0, 0, 1, 1, 0, 0, 0, 1, 0, 0, 1, 0, 0, 1, 0, 0, 1, 1, 1, 0, 0, 1, 1, 1, 0, 1, 1, 0, 1, 0, 0, 1, 0, 1]\n",
            "Predicciones : [1, 1, 1, 0, 1, 1, 0, 0, 0, 0, 1, 1, 0, 1, 0, 0, 0, 1, 0, 0, 0, 1, 0, 1, 0, 0, 0, 0, 0, 0, 1, 0, 0, 1, 0, 1, 1, 1, 0, 0, 1, 0, 0, 1, 0, 1, 0, 0, 0, 1, 1, 1, 1, 0, 0, 0, 1, 0, 1, 0, 0, 1, 1, 1, 0, 0, 1, 1, 1, 0, 1, 1, 1, 1, 0, 1, 1, 0, 1, 0, 0, 0, 1, 0, 0, 0, 0, 0, 1, 0, 0, 0, 0, 1, 0, 1, 1, 1, 1, 1, 0, 0, 1, 1, 0, 0, 1, 1, 0, 1, 0, 1, 1, 0, 1, 0, 0, 1, 1, 0, 1, 0, 0, 0, 1, 1, 0, 1, 0, 0, 0, 0, 1, 1, 0, 1, 0, 0, 0, 0, 0, 1, 1, 0, 1, 1, 1, 1, 1, 1, 1, 0, 1, 0, 1, 0, 0, 0, 0, 0, 0, 0, 0, 0, 0, 1, 0, 1, 0, 1, 0, 0, 0, 0, 0, 0, 0, 0, 0, 1, 0, 1, 0, 0, 0, 1, 1, 0, 0, 1, 1, 0, 1, 1, 0, 1, 1, 0, 1, 0, 1, 1, 1, 0, 1, 1, 0, 0, 0, 1, 1, 1, 1, 1, 1, 0, 1, 1, 1, 0, 1, 1, 0, 1, 0, 0, 0, 0, 0, 1, 1, 1, 0, 0, 0, 1, 1, 1, 0, 0, 0, 0, 1, 0, 0, 0, 1, 1, 1, 1, 1, 1, 0, 1, 1, 1, 1, 0, 0, 1, 0, 0, 1, 0, 1, 0, 0, 0, 0, 1, 0, 1, 1, 1, 1, 1, 1, 0, 1, 0, 1, 0, 0, 1, 0, 0, 1, 0, 1, 0, 1, 1, 0, 1, 0, 0, 0, 1, 1, 1, 1, 0, 1, 0, 0, 1, 1, 1, 1, 1, 1, 0, 1, 0, 1, 0, 1, 0, 0, 0, 1, 1, 0, 1, 0, 0, 1, 1, 1, 0, 0, 0, 1, 0, 1, 0, 1, 1, 0, 1, 1, 0, 1, 1, 0, 0, 0, 1, 0, 1, 0, 0, 1, 0, 1, 1, 0, 1, 1, 0, 1, 0, 0, 0, 0, 0, 0, 1, 0, 1, 0, 0, 0, 0, 1, 0, 1, 0, 0, 0, 1, 1, 1, 0, 1, 0, 1, 1, 1, 1, 0, 0, 0, 0, 0, 0, 0, 1, 1, 0, 1, 1, 1, 1, 0, 1, 1, 0, 0, 1, 1, 1, 0, 0, 1, 1, 1, 0, 0, 0, 0, 0, 1, 1, 1, 1, 1, 0, 1, 1, 0, 1, 1, 1, 0, 1, 1, 0, 0, 1, 0, 1, 0, 0, 0, 0, 0, 0, 1, 1, 1, 0, 0, 1, 0, 0, 0, 1, 0, 1, 0, 0, 1, 0, 1, 0, 0, 1, 1, 1, 0, 1, 1, 0, 0, 0, 0, 1, 0, 1]\n"
          ]
        }
      ],
      "source": [
        "Xtest = sm.add_constant(X_test[['volatile acidity',\n",
        " 'chlorides',\n",
        " 'total sulfur dioxide',\n",
        " 'sulphates',\n",
        " 'alcohol']])\n",
        "ytest = y_test\n",
        "yhat = log_reg.predict(Xtest)\n",
        "prediction = list(map(round, yhat))\n",
        "actuales= list(map(int,ytest.values))  \n",
        "# comparing original and predicted values of y\n",
        "print('Valores actuales', list(actuales))\n",
        "print('Predicciones :', prediction)"
      ]
    },
    {
      "cell_type": "code",
      "execution_count": null,
      "id": "55b691b8-dba6-4bfd-9d00-2162c3d43ea2",
      "metadata": {
        "id": "55b691b8-dba6-4bfd-9d00-2162c3d43ea2",
        "outputId": "00f71c75-30ce-4e71-aa3c-daab5fcb8ff2"
      },
      "outputs": [
        {
          "name": "stdout",
          "output_type": "stream",
          "text": [
            "Confusion Matrix : \n",
            " [[182  68]\n",
            " [ 67 163]]\n",
            "Test accuracy =  0.71875\n"
          ]
        }
      ],
      "source": [
        "from sklearn.metrics import (confusion_matrix, \n",
        "                           accuracy_score)\n",
        "from sklearn.metrics import ConfusionMatrixDisplay\n",
        "  \n",
        "# confusion matrix\n",
        "cm = confusion_matrix(ytest, prediction) \n",
        "print (\"Confusion Matrix : \\n\", cm)\n",
        "\n",
        "\n",
        "# Exactitud de modelo\n",
        "print('Test accuracy = ', accuracy_score(ytest, prediction))"
      ]
    },
    {
      "cell_type": "markdown",
      "id": "8579d939-661c-4158-b7f7-e1c15447c66b",
      "metadata": {
        "id": "8579d939-661c-4158-b7f7-e1c15447c66b"
      },
      "source": [
        "# Tutorial MongoDB y scikit-learn"
      ]
    },
    {
      "cell_type": "markdown",
      "id": "df26bb00-3c2b-4364-ae73-46b020361d74",
      "metadata": {
        "id": "df26bb00-3c2b-4364-ae73-46b020361d74"
      },
      "source": [
        "## Instalación de bibliotecas pymongo"
      ]
    },
    {
      "cell_type": "code",
      "execution_count": null,
      "id": "bf4ea8de-c331-4fc5-b716-e362541278f4",
      "metadata": {
        "id": "bf4ea8de-c331-4fc5-b716-e362541278f4",
        "outputId": "f3565fe7-8028-4720-8f0e-b6f1686d5320"
      },
      "outputs": [
        {
          "name": "stdout",
          "output_type": "stream",
          "text": [
            "Defaulting to user installation because normal site-packages is not writeable\n",
            "Collecting pymongo\n",
            "  Downloading pymongo-4.1.1-cp39-cp39-win_amd64.whl (365 kB)\n",
            "     -------------------------------------- 365.3/365.3 kB 2.8 MB/s eta 0:00:00\n",
            "Installing collected packages: pymongo\n",
            "Successfully installed pymongo-4.1.1\n"
          ]
        }
      ],
      "source": [
        "!pip install pymongo\n",
        "import pymongo"
      ]
    },
    {
      "cell_type": "markdown",
      "id": "d6e44b78-2543-4a27-aee7-a5ef76e75a09",
      "metadata": {
        "id": "d6e44b78-2543-4a27-aee7-a5ef76e75a09"
      },
      "source": [
        "## Conexión, visualización, selección o creación de base de datos"
      ]
    },
    {
      "cell_type": "code",
      "execution_count": null,
      "id": "d854f96c-24b0-46ac-882f-e12a06abbd31",
      "metadata": {
        "id": "d854f96c-24b0-46ac-882f-e12a06abbd31",
        "outputId": "f19fc4e1-6b8f-47c7-fcc7-914728553e91"
      },
      "outputs": [
        {
          "name": "stdout",
          "output_type": "stream",
          "text": [
            "['admin', 'config', 'datasets_ml', 'local']\n"
          ]
        }
      ],
      "source": [
        "myclient = pymongo.MongoClient(\"mongodb://localhost:27017/\")\n",
        "dblist = myclient.list_database_names()\n",
        "print(dblist)"
      ]
    },
    {
      "cell_type": "markdown",
      "id": "f73c1f61-8a09-44b1-aa2c-dcd850d1b6d8",
      "metadata": {
        "id": "f73c1f61-8a09-44b1-aa2c-dcd850d1b6d8"
      },
      "source": [
        "## Visualización, selección o creación de la colección"
      ]
    },
    {
      "cell_type": "code",
      "execution_count": null,
      "id": "fc19fef8-c913-4d18-8f68-9ef7b99ebaaf",
      "metadata": {
        "id": "fc19fef8-c913-4d18-8f68-9ef7b99ebaaf",
        "outputId": "29d40d6b-c89f-43a1-e344-ffbc32b2c68d"
      },
      "outputs": [
        {
          "name": "stdout",
          "output_type": "stream",
          "text": [
            "['iris']\n"
          ]
        }
      ],
      "source": [
        "mydb = myclient[\"datasets_ml\"]\n",
        "print(mydb.list_collection_names())"
      ]
    },
    {
      "cell_type": "code",
      "execution_count": null,
      "id": "676807bf-b7d6-410e-b19a-87902dd31fc6",
      "metadata": {
        "id": "676807bf-b7d6-410e-b19a-87902dd31fc6",
        "outputId": "f24e7010-0301-4b06-e306-61ca291d10ed",
        "colab": {
          "base_uri": "https://localhost:8080/",
          "height": 169
        }
      },
      "outputs": [
        {
          "output_type": "error",
          "ename": "NameError",
          "evalue": "ignored",
          "traceback": [
            "\u001b[0;31m---------------------------------------------------------------------------\u001b[0m",
            "\u001b[0;31mNameError\u001b[0m                                 Traceback (most recent call last)",
            "\u001b[0;32m<ipython-input-1-147feae727f6>\u001b[0m in \u001b[0;36m<module>\u001b[0;34m\u001b[0m\n\u001b[0;32m----> 1\u001b[0;31m \u001b[0mmycol\u001b[0m \u001b[0;34m=\u001b[0m \u001b[0mmydb\u001b[0m\u001b[0;34m[\u001b[0m\u001b[0;34m\"iris\"\u001b[0m\u001b[0;34m]\u001b[0m\u001b[0;34m\u001b[0m\u001b[0;34m\u001b[0m\u001b[0m\n\u001b[0m",
            "\u001b[0;31mNameError\u001b[0m: name 'mydb' is not defined"
          ]
        }
      ],
      "source": [
        "mycol = mydb[\"iris\"]"
      ]
    },
    {
      "cell_type": "markdown",
      "id": "08c56c85-6f03-4e99-b8b6-d54dd958a070",
      "metadata": {
        "id": "08c56c85-6f03-4e99-b8b6-d54dd958a070"
      },
      "source": [
        "## Comandos MongoDB"
      ]
    },
    {
      "cell_type": "markdown",
      "id": "8737a43f-3815-453a-8172-91ab657f873f",
      "metadata": {
        "id": "8737a43f-3815-453a-8172-91ab657f873f"
      },
      "source": [
        "### Buscar un solo documento (Find One)"
      ]
    },
    {
      "cell_type": "code",
      "execution_count": null,
      "id": "38bacf13-65a2-4583-8ae0-e9ee1767cb43",
      "metadata": {
        "id": "38bacf13-65a2-4583-8ae0-e9ee1767cb43",
        "outputId": "c43dfd1c-62a1-43a3-ba10-3a17e958fcb2",
        "colab": {
          "base_uri": "https://localhost:8080/",
          "height": 205
        }
      },
      "outputs": [
        {
          "output_type": "error",
          "ename": "NameError",
          "evalue": "ignored",
          "traceback": [
            "\u001b[0;31m---------------------------------------------------------------------------\u001b[0m",
            "\u001b[0;31mNameError\u001b[0m                                 Traceback (most recent call last)",
            "\u001b[0;32m<ipython-input-2-74d41ce38ad5>\u001b[0m in \u001b[0;36m<module>\u001b[0;34m\u001b[0m\n\u001b[0;32m----> 1\u001b[0;31m \u001b[0mx\u001b[0m \u001b[0;34m=\u001b[0m \u001b[0mmycol\u001b[0m\u001b[0;34m.\u001b[0m\u001b[0mfind_one\u001b[0m\u001b[0;34m(\u001b[0m\u001b[0;34m)\u001b[0m\u001b[0;34m\u001b[0m\u001b[0;34m\u001b[0m\u001b[0m\n\u001b[0m\u001b[1;32m      2\u001b[0m \u001b[0;34m\u001b[0m\u001b[0m\n\u001b[1;32m      3\u001b[0m \u001b[0mprint\u001b[0m\u001b[0;34m(\u001b[0m\u001b[0mx\u001b[0m\u001b[0;34m)\u001b[0m\u001b[0;34m\u001b[0m\u001b[0;34m\u001b[0m\u001b[0m\n",
            "\u001b[0;31mNameError\u001b[0m: name 'mycol' is not defined"
          ]
        }
      ],
      "source": [
        "x = mycol.find_one()\n",
        "\n",
        "print(x)\n"
      ]
    },
    {
      "cell_type": "markdown",
      "id": "6dc57339-88ed-490d-803c-22e43c68ecb3",
      "metadata": {
        "id": "6dc57339-88ed-490d-803c-22e43c68ecb3"
      },
      "source": [
        "### Buscar varios documentos (Find) y condicionales"
      ]
    },
    {
      "cell_type": "code",
      "execution_count": null,
      "id": "7f62d15b-f151-4c58-9d6d-b60c9a5a6ab1",
      "metadata": {
        "id": "7f62d15b-f151-4c58-9d6d-b60c9a5a6ab1",
        "outputId": "3d08b346-2bdc-4985-ff5f-b769906b5c1d",
        "colab": {
          "base_uri": "https://localhost:8080/",
          "height": 187
        }
      },
      "outputs": [
        {
          "output_type": "error",
          "ename": "NameError",
          "evalue": "ignored",
          "traceback": [
            "\u001b[0;31m---------------------------------------------------------------------------\u001b[0m",
            "\u001b[0;31mNameError\u001b[0m                                 Traceback (most recent call last)",
            "\u001b[0;32m<ipython-input-3-8a4d35d950a2>\u001b[0m in \u001b[0;36m<module>\u001b[0;34m\u001b[0m\n\u001b[0;32m----> 1\u001b[0;31m \u001b[0;32mfor\u001b[0m \u001b[0mx\u001b[0m \u001b[0;32min\u001b[0m \u001b[0mmycol\u001b[0m\u001b[0;34m.\u001b[0m\u001b[0mfind\u001b[0m\u001b[0;34m(\u001b[0m\u001b[0;34m)\u001b[0m\u001b[0;34m.\u001b[0m\u001b[0mlimit\u001b[0m\u001b[0;34m(\u001b[0m\u001b[0;36m5\u001b[0m\u001b[0;34m)\u001b[0m\u001b[0;34m:\u001b[0m\u001b[0;34m\u001b[0m\u001b[0;34m\u001b[0m\u001b[0m\n\u001b[0m\u001b[1;32m      2\u001b[0m   \u001b[0mprint\u001b[0m\u001b[0;34m(\u001b[0m\u001b[0mx\u001b[0m\u001b[0;34m)\u001b[0m\u001b[0;34m\u001b[0m\u001b[0;34m\u001b[0m\u001b[0m\n",
            "\u001b[0;31mNameError\u001b[0m: name 'mycol' is not defined"
          ]
        }
      ],
      "source": [
        "for x in mycol.find().limit(5):\n",
        "  print(x)"
      ]
    },
    {
      "cell_type": "code",
      "execution_count": null,
      "id": "803c3a1a-6c6e-4fd2-9eb2-07e7e00f490a",
      "metadata": {
        "id": "803c3a1a-6c6e-4fd2-9eb2-07e7e00f490a"
      },
      "outputs": [],
      "source": [
        "myquery = { \"Species\": \"Iris-versicolor\"}\n",
        "mydoc = mycol.find(myquery).limit(10)\n",
        "\n",
        "for x in mydoc:\n",
        "  print(x)"
      ]
    },
    {
      "cell_type": "code",
      "execution_count": null,
      "id": "e42013ab-94ed-4910-87ba-2ac8bc755431",
      "metadata": {
        "id": "e42013ab-94ed-4910-87ba-2ac8bc755431"
      },
      "outputs": [],
      "source": [
        "myquery = { \"SepalLengthCm\": { \"$lt\": 6.0 } }\n",
        "mydoc = mycol.find(myquery).limit(10)\n",
        "\n",
        "for x in mydoc:\n",
        "  print(x)"
      ]
    },
    {
      "cell_type": "markdown",
      "id": "2a634ded-3ea2-4bb3-97a3-89888f10470c",
      "metadata": {
        "id": "2a634ded-3ea2-4bb3-97a3-89888f10470c"
      },
      "source": [
        "### Insert One"
      ]
    },
    {
      "cell_type": "code",
      "execution_count": null,
      "id": "43750cc9-fb5e-4d86-bfde-bf6023613e76",
      "metadata": {
        "id": "43750cc9-fb5e-4d86-bfde-bf6023613e76"
      },
      "outputs": [],
      "source": [
        "mydict = { 'Id': 151, 'SepalLengthCm': 5.0, 'SepalWidthCm': 3.2, 'PetalLengthCm': 1.6, 'PetalWidthCm': 0.2, 'Species': 'Iris-setosa' }\n",
        "x = mycol.insert_one(mydict)\n",
        "print(x)"
      ]
    },
    {
      "cell_type": "code",
      "execution_count": null,
      "id": "292435a5-8718-4e09-9382-6e4e409cd7ce",
      "metadata": {
        "id": "292435a5-8718-4e09-9382-6e4e409cd7ce"
      },
      "outputs": [],
      "source": [
        "myquery = { \"Id\": 151}\n",
        "mydoc = mycol.find(myquery)\n",
        "\n",
        "for x in mydoc:\n",
        "  print(x)"
      ]
    },
    {
      "cell_type": "markdown",
      "id": "7b4d9591-fade-48e5-9e37-93b059a38f13",
      "metadata": {
        "id": "7b4d9591-fade-48e5-9e37-93b059a38f13"
      },
      "source": [
        "### Update One"
      ]
    },
    {
      "cell_type": "code",
      "execution_count": null,
      "id": "318d1b7d-2770-41af-a87d-701e0c74439e",
      "metadata": {
        "id": "318d1b7d-2770-41af-a87d-701e0c74439e"
      },
      "outputs": [],
      "source": [
        "myquery = { \"Id\": 151}\n",
        "newvalues = { \"$set\": { \"SepalLengthCm\": 5.1 } }\n",
        "mycol.update_one(myquery, newvalues)\n",
        "#Imprimir despues de la actualización\n",
        "myquery = { \"Id\": 151}\n",
        "mydoc = mycol.find(myquery)\n",
        "for x in mydoc:\n",
        "  print(x)"
      ]
    },
    {
      "cell_type": "markdown",
      "id": "a2345f61-729a-43c9-85fa-4685e0698e66",
      "metadata": {
        "id": "a2345f61-729a-43c9-85fa-4685e0698e66"
      },
      "source": [
        "### Delete One"
      ]
    },
    {
      "cell_type": "code",
      "execution_count": null,
      "id": "eb612370-f688-43e6-bcc6-61ad278efca6",
      "metadata": {
        "id": "eb612370-f688-43e6-bcc6-61ad278efca6"
      },
      "outputs": [],
      "source": [
        "myquery = { \"Id\": 151}\n",
        "x = mycol.delete_many(myquery)\n",
        "\n",
        "print(x.deleted_count, \" Documento eliminado.\")"
      ]
    },
    {
      "cell_type": "code",
      "execution_count": null,
      "id": "5f73fc69-2e78-499c-8fcd-b659545579e4",
      "metadata": {
        "id": "5f73fc69-2e78-499c-8fcd-b659545579e4"
      },
      "outputs": [],
      "source": [
        "myquery = { \"Id\": 151}\n",
        "mydoc = mycol.find(myquery)\n",
        "for x in mydoc:\n",
        "  print(x)"
      ]
    },
    {
      "cell_type": "markdown",
      "id": "2834b2b4-e8e3-43c4-bca0-7c72b9389165",
      "metadata": {
        "id": "2834b2b4-e8e3-43c4-bca0-7c72b9389165"
      },
      "source": [
        "## MongoDB a DataFrame"
      ]
    },
    {
      "cell_type": "code",
      "execution_count": null,
      "id": "6ddfd36b-f3c7-42ac-80e7-5398a587842f",
      "metadata": {
        "id": "6ddfd36b-f3c7-42ac-80e7-5398a587842f",
        "outputId": "36006026-69c8-456b-e28f-d3f6a3639962"
      },
      "outputs": [
        {
          "name": "stdout",
          "output_type": "stream",
          "text": [
            "<pymongo.cursor.Cursor object at 0x0000013F5C6847C0>\n",
            "Type of cursor: <class 'pymongo.cursor.Cursor'>\n"
          ]
        }
      ],
      "source": [
        "import pandas as pd\n",
        "cursor = mycol.find()\n",
        "print(cursor)\n",
        "print('Type of cursor:',type(cursor))"
      ]
    },
    {
      "cell_type": "code",
      "execution_count": null,
      "id": "e5c46320-edf5-4f12-97e8-28d7a443000a",
      "metadata": {
        "id": "e5c46320-edf5-4f12-97e8-28d7a443000a",
        "outputId": "6652f342-62d5-4bbe-b7bc-1830c08c539e"
      },
      "outputs": [
        {
          "name": "stdout",
          "output_type": "stream",
          "text": [
            "[{'_id': ObjectId('62cbbf6267cbe7f0641b9117'), 'Id': 2, 'SepalLengthCm': 4.9, 'SepalWidthCm': 3, 'PetalLengthCm': 1.4, 'PetalWidthCm': 0.2, 'Species': 'Iris-setosa'}, {'_id': ObjectId('62cbbf6267cbe7f0641b9118'), 'Id': 3, 'SepalLengthCm': 4.7, 'SepalWidthCm': 3.2, 'PetalLengthCm': 1.3, 'PetalWidthCm': 0.2, 'Species': 'Iris-setosa'}, {'_id': ObjectId('62cbbf6267cbe7f0641b9119'), 'Id': 4, 'SepalLengthCm': 4.6, 'SepalWidthCm': 3.1, 'PetalLengthCm': 1.5, 'PetalWidthCm': 0.2, 'Species': 'Iris-setosa'}, {'_id': ObjectId('62cbbf6267cbe7f0641b911a'), 'Id': 5, 'SepalLengthCm': 5, 'SepalWidthCm': 3.6, 'PetalLengthCm': 1.4, 'PetalWidthCm': 0.2, 'Species': 'Iris-setosa'}]\n",
            "Type of df: <class 'pandas.core.frame.DataFrame'>\n"
          ]
        }
      ],
      "source": [
        "list_cur = list(cursor)\n",
        "print(list_cur[1:5])\n",
        "df = pd.DataFrame(list_cur)\n",
        "print('Type of df:',type(df))"
      ]
    },
    {
      "cell_type": "code",
      "execution_count": null,
      "id": "8d5193fd-09ca-4d30-9314-8fdb71e0de60",
      "metadata": {
        "id": "8d5193fd-09ca-4d30-9314-8fdb71e0de60",
        "outputId": "37ca9f8c-f983-4edd-efc9-aa5a2c0d596d"
      },
      "outputs": [
        {
          "data": {
            "text/html": [
              "<div>\n",
              "<style scoped>\n",
              "    .dataframe tbody tr th:only-of-type {\n",
              "        vertical-align: middle;\n",
              "    }\n",
              "\n",
              "    .dataframe tbody tr th {\n",
              "        vertical-align: top;\n",
              "    }\n",
              "\n",
              "    .dataframe thead th {\n",
              "        text-align: right;\n",
              "    }\n",
              "</style>\n",
              "<table border=\"1\" class=\"dataframe\">\n",
              "  <thead>\n",
              "    <tr style=\"text-align: right;\">\n",
              "      <th></th>\n",
              "      <th>_id</th>\n",
              "      <th>Id</th>\n",
              "      <th>SepalLengthCm</th>\n",
              "      <th>SepalWidthCm</th>\n",
              "      <th>PetalLengthCm</th>\n",
              "      <th>PetalWidthCm</th>\n",
              "      <th>Species</th>\n",
              "    </tr>\n",
              "  </thead>\n",
              "  <tbody>\n",
              "    <tr>\n",
              "      <th>0</th>\n",
              "      <td>62cbbf6267cbe7f0641b9116</td>\n",
              "      <td>1</td>\n",
              "      <td>5.1</td>\n",
              "      <td>3.5</td>\n",
              "      <td>1.4</td>\n",
              "      <td>0.2</td>\n",
              "      <td>Iris-setosa</td>\n",
              "    </tr>\n",
              "    <tr>\n",
              "      <th>1</th>\n",
              "      <td>62cbbf6267cbe7f0641b9117</td>\n",
              "      <td>2</td>\n",
              "      <td>4.9</td>\n",
              "      <td>3.0</td>\n",
              "      <td>1.4</td>\n",
              "      <td>0.2</td>\n",
              "      <td>Iris-setosa</td>\n",
              "    </tr>\n",
              "    <tr>\n",
              "      <th>2</th>\n",
              "      <td>62cbbf6267cbe7f0641b9118</td>\n",
              "      <td>3</td>\n",
              "      <td>4.7</td>\n",
              "      <td>3.2</td>\n",
              "      <td>1.3</td>\n",
              "      <td>0.2</td>\n",
              "      <td>Iris-setosa</td>\n",
              "    </tr>\n",
              "    <tr>\n",
              "      <th>3</th>\n",
              "      <td>62cbbf6267cbe7f0641b9119</td>\n",
              "      <td>4</td>\n",
              "      <td>4.6</td>\n",
              "      <td>3.1</td>\n",
              "      <td>1.5</td>\n",
              "      <td>0.2</td>\n",
              "      <td>Iris-setosa</td>\n",
              "    </tr>\n",
              "    <tr>\n",
              "      <th>4</th>\n",
              "      <td>62cbbf6267cbe7f0641b911a</td>\n",
              "      <td>5</td>\n",
              "      <td>5.0</td>\n",
              "      <td>3.6</td>\n",
              "      <td>1.4</td>\n",
              "      <td>0.2</td>\n",
              "      <td>Iris-setosa</td>\n",
              "    </tr>\n",
              "  </tbody>\n",
              "</table>\n",
              "</div>"
            ],
            "text/plain": [
              "                        _id  Id  SepalLengthCm  SepalWidthCm  PetalLengthCm  \\\n",
              "0  62cbbf6267cbe7f0641b9116   1            5.1           3.5            1.4   \n",
              "1  62cbbf6267cbe7f0641b9117   2            4.9           3.0            1.4   \n",
              "2  62cbbf6267cbe7f0641b9118   3            4.7           3.2            1.3   \n",
              "3  62cbbf6267cbe7f0641b9119   4            4.6           3.1            1.5   \n",
              "4  62cbbf6267cbe7f0641b911a   5            5.0           3.6            1.4   \n",
              "\n",
              "   PetalWidthCm      Species  \n",
              "0           0.2  Iris-setosa  \n",
              "1           0.2  Iris-setosa  \n",
              "2           0.2  Iris-setosa  \n",
              "3           0.2  Iris-setosa  \n",
              "4           0.2  Iris-setosa  "
            ]
          },
          "execution_count": 105,
          "metadata": {},
          "output_type": "execute_result"
        }
      ],
      "source": [
        "df.head(5)"
      ]
    },
    {
      "cell_type": "code",
      "execution_count": null,
      "id": "5402be26-ba33-4478-9753-968e93ef3aa7",
      "metadata": {
        "id": "5402be26-ba33-4478-9753-968e93ef3aa7"
      },
      "outputs": [],
      "source": [
        "df=df.drop(['_id','Id'], axis = 1)"
      ]
    },
    {
      "cell_type": "code",
      "execution_count": null,
      "id": "77fdf61b-c97a-40da-99fc-7841a2ab1a5d",
      "metadata": {
        "id": "77fdf61b-c97a-40da-99fc-7841a2ab1a5d",
        "outputId": "79cbc485-c624-4e52-afcc-a69cc9960a64"
      },
      "outputs": [
        {
          "data": {
            "text/html": [
              "<div>\n",
              "<style scoped>\n",
              "    .dataframe tbody tr th:only-of-type {\n",
              "        vertical-align: middle;\n",
              "    }\n",
              "\n",
              "    .dataframe tbody tr th {\n",
              "        vertical-align: top;\n",
              "    }\n",
              "\n",
              "    .dataframe thead th {\n",
              "        text-align: right;\n",
              "    }\n",
              "</style>\n",
              "<table border=\"1\" class=\"dataframe\">\n",
              "  <thead>\n",
              "    <tr style=\"text-align: right;\">\n",
              "      <th></th>\n",
              "      <th>SepalLengthCm</th>\n",
              "      <th>SepalWidthCm</th>\n",
              "      <th>PetalLengthCm</th>\n",
              "      <th>PetalWidthCm</th>\n",
              "      <th>Species</th>\n",
              "    </tr>\n",
              "  </thead>\n",
              "  <tbody>\n",
              "    <tr>\n",
              "      <th>0</th>\n",
              "      <td>5.1</td>\n",
              "      <td>3.5</td>\n",
              "      <td>1.4</td>\n",
              "      <td>0.2</td>\n",
              "      <td>Iris-setosa</td>\n",
              "    </tr>\n",
              "    <tr>\n",
              "      <th>1</th>\n",
              "      <td>4.9</td>\n",
              "      <td>3.0</td>\n",
              "      <td>1.4</td>\n",
              "      <td>0.2</td>\n",
              "      <td>Iris-setosa</td>\n",
              "    </tr>\n",
              "    <tr>\n",
              "      <th>2</th>\n",
              "      <td>4.7</td>\n",
              "      <td>3.2</td>\n",
              "      <td>1.3</td>\n",
              "      <td>0.2</td>\n",
              "      <td>Iris-setosa</td>\n",
              "    </tr>\n",
              "    <tr>\n",
              "      <th>3</th>\n",
              "      <td>4.6</td>\n",
              "      <td>3.1</td>\n",
              "      <td>1.5</td>\n",
              "      <td>0.2</td>\n",
              "      <td>Iris-setosa</td>\n",
              "    </tr>\n",
              "    <tr>\n",
              "      <th>4</th>\n",
              "      <td>5.0</td>\n",
              "      <td>3.6</td>\n",
              "      <td>1.4</td>\n",
              "      <td>0.2</td>\n",
              "      <td>Iris-setosa</td>\n",
              "    </tr>\n",
              "    <tr>\n",
              "      <th>5</th>\n",
              "      <td>5.4</td>\n",
              "      <td>3.9</td>\n",
              "      <td>1.7</td>\n",
              "      <td>0.4</td>\n",
              "      <td>Iris-setosa</td>\n",
              "    </tr>\n",
              "    <tr>\n",
              "      <th>6</th>\n",
              "      <td>4.6</td>\n",
              "      <td>3.4</td>\n",
              "      <td>1.4</td>\n",
              "      <td>0.3</td>\n",
              "      <td>Iris-setosa</td>\n",
              "    </tr>\n",
              "    <tr>\n",
              "      <th>7</th>\n",
              "      <td>5.0</td>\n",
              "      <td>3.4</td>\n",
              "      <td>1.5</td>\n",
              "      <td>0.2</td>\n",
              "      <td>Iris-setosa</td>\n",
              "    </tr>\n",
              "    <tr>\n",
              "      <th>8</th>\n",
              "      <td>4.4</td>\n",
              "      <td>2.9</td>\n",
              "      <td>1.4</td>\n",
              "      <td>0.2</td>\n",
              "      <td>Iris-setosa</td>\n",
              "    </tr>\n",
              "    <tr>\n",
              "      <th>9</th>\n",
              "      <td>4.9</td>\n",
              "      <td>3.1</td>\n",
              "      <td>1.5</td>\n",
              "      <td>0.1</td>\n",
              "      <td>Iris-setosa</td>\n",
              "    </tr>\n",
              "  </tbody>\n",
              "</table>\n",
              "</div>"
            ],
            "text/plain": [
              "   SepalLengthCm  SepalWidthCm  PetalLengthCm  PetalWidthCm      Species\n",
              "0            5.1           3.5            1.4           0.2  Iris-setosa\n",
              "1            4.9           3.0            1.4           0.2  Iris-setosa\n",
              "2            4.7           3.2            1.3           0.2  Iris-setosa\n",
              "3            4.6           3.1            1.5           0.2  Iris-setosa\n",
              "4            5.0           3.6            1.4           0.2  Iris-setosa\n",
              "5            5.4           3.9            1.7           0.4  Iris-setosa\n",
              "6            4.6           3.4            1.4           0.3  Iris-setosa\n",
              "7            5.0           3.4            1.5           0.2  Iris-setosa\n",
              "8            4.4           2.9            1.4           0.2  Iris-setosa\n",
              "9            4.9           3.1            1.5           0.1  Iris-setosa"
            ]
          },
          "execution_count": 107,
          "metadata": {},
          "output_type": "execute_result"
        }
      ],
      "source": [
        "df.head(10)"
      ]
    },
    {
      "cell_type": "markdown",
      "id": "d41a3669-080d-4bcd-bef0-fa487be55b31",
      "metadata": {
        "id": "d41a3669-080d-4bcd-bef0-fa487be55b31"
      },
      "source": [
        "## Construcción del conjunto de datos separando variables independientes y la variable dependiente"
      ]
    },
    {
      "cell_type": "code",
      "execution_count": null,
      "id": "f80f4f3f-b789-4ea6-9e69-66c67ab5b778",
      "metadata": {
        "id": "f80f4f3f-b789-4ea6-9e69-66c67ab5b778"
      },
      "outputs": [],
      "source": [
        "# con esto tomamos todas las variables excepto 'class' como variables independiente\n",
        "X = df.drop(['Species'], axis = 1)  \n",
        "# con esto tomamos solo a la variable 'class' como variable dependiente\n",
        "y = df['Species']\n",
        "# llamamos a la biblioteca que divide nuestros datos en entrenamiento y prueba\n",
        "from sklearn.model_selection import train_test_split  \n",
        "X_train, X_test, y_train, y_test = train_test_split(X,y,test_size=0.3,random_state=50)"
      ]
    },
    {
      "cell_type": "markdown",
      "id": "8b15a35c-dd69-4b98-8bc0-185db1dfe82e",
      "metadata": {
        "id": "8b15a35c-dd69-4b98-8bc0-185db1dfe82e"
      },
      "source": [
        "## Creación de un modelo de clasificación utilizando un árbol de decisión"
      ]
    },
    {
      "cell_type": "code",
      "execution_count": null,
      "id": "c7dfcc99-07c3-4728-b960-d5711ce37e41",
      "metadata": {
        "id": "c7dfcc99-07c3-4728-b960-d5711ce37e41",
        "outputId": "95729f71-8752-477c-b1d0-eef345798ef5"
      },
      "outputs": [
        {
          "data": {
            "text/html": [
              "<style>#sk-container-id-2 {color: black;background-color: white;}#sk-container-id-2 pre{padding: 0;}#sk-container-id-2 div.sk-toggleable {background-color: white;}#sk-container-id-2 label.sk-toggleable__label {cursor: pointer;display: block;width: 100%;margin-bottom: 0;padding: 0.3em;box-sizing: border-box;text-align: center;}#sk-container-id-2 label.sk-toggleable__label-arrow:before {content: \"▸\";float: left;margin-right: 0.25em;color: #696969;}#sk-container-id-2 label.sk-toggleable__label-arrow:hover:before {color: black;}#sk-container-id-2 div.sk-estimator:hover label.sk-toggleable__label-arrow:before {color: black;}#sk-container-id-2 div.sk-toggleable__content {max-height: 0;max-width: 0;overflow: hidden;text-align: left;background-color: #f0f8ff;}#sk-container-id-2 div.sk-toggleable__content pre {margin: 0.2em;color: black;border-radius: 0.25em;background-color: #f0f8ff;}#sk-container-id-2 input.sk-toggleable__control:checked~div.sk-toggleable__content {max-height: 200px;max-width: 100%;overflow: auto;}#sk-container-id-2 input.sk-toggleable__control:checked~label.sk-toggleable__label-arrow:before {content: \"▾\";}#sk-container-id-2 div.sk-estimator input.sk-toggleable__control:checked~label.sk-toggleable__label {background-color: #d4ebff;}#sk-container-id-2 div.sk-label input.sk-toggleable__control:checked~label.sk-toggleable__label {background-color: #d4ebff;}#sk-container-id-2 input.sk-hidden--visually {border: 0;clip: rect(1px 1px 1px 1px);clip: rect(1px, 1px, 1px, 1px);height: 1px;margin: -1px;overflow: hidden;padding: 0;position: absolute;width: 1px;}#sk-container-id-2 div.sk-estimator {font-family: monospace;background-color: #f0f8ff;border: 1px dotted black;border-radius: 0.25em;box-sizing: border-box;margin-bottom: 0.5em;}#sk-container-id-2 div.sk-estimator:hover {background-color: #d4ebff;}#sk-container-id-2 div.sk-parallel-item::after {content: \"\";width: 100%;border-bottom: 1px solid gray;flex-grow: 1;}#sk-container-id-2 div.sk-label:hover label.sk-toggleable__label {background-color: #d4ebff;}#sk-container-id-2 div.sk-serial::before {content: \"\";position: absolute;border-left: 1px solid gray;box-sizing: border-box;top: 0;bottom: 0;left: 50%;z-index: 0;}#sk-container-id-2 div.sk-serial {display: flex;flex-direction: column;align-items: center;background-color: white;padding-right: 0.2em;padding-left: 0.2em;position: relative;}#sk-container-id-2 div.sk-item {position: relative;z-index: 1;}#sk-container-id-2 div.sk-parallel {display: flex;align-items: stretch;justify-content: center;background-color: white;position: relative;}#sk-container-id-2 div.sk-item::before, #sk-container-id-2 div.sk-parallel-item::before {content: \"\";position: absolute;border-left: 1px solid gray;box-sizing: border-box;top: 0;bottom: 0;left: 50%;z-index: -1;}#sk-container-id-2 div.sk-parallel-item {display: flex;flex-direction: column;z-index: 1;position: relative;background-color: white;}#sk-container-id-2 div.sk-parallel-item:first-child::after {align-self: flex-end;width: 50%;}#sk-container-id-2 div.sk-parallel-item:last-child::after {align-self: flex-start;width: 50%;}#sk-container-id-2 div.sk-parallel-item:only-child::after {width: 0;}#sk-container-id-2 div.sk-dashed-wrapped {border: 1px dashed gray;margin: 0 0.4em 0.5em 0.4em;box-sizing: border-box;padding-bottom: 0.4em;background-color: white;}#sk-container-id-2 div.sk-label label {font-family: monospace;font-weight: bold;display: inline-block;line-height: 1.2em;}#sk-container-id-2 div.sk-label-container {text-align: center;}#sk-container-id-2 div.sk-container {/* jupyter's `normalize.less` sets `[hidden] { display: none; }` but bootstrap.min.css set `[hidden] { display: none !important; }` so we also need the `!important` here to be able to override the default hidden behavior on the sphinx rendered scikit-learn.org. See: https://github.com/scikit-learn/scikit-learn/issues/21755 */display: inline-block !important;position: relative;}#sk-container-id-2 div.sk-text-repr-fallback {display: none;}</style><div id=\"sk-container-id-2\" class=\"sk-top-container\"><div class=\"sk-text-repr-fallback\"><pre>DecisionTreeClassifier(random_state=0)</pre><b>In a Jupyter environment, please rerun this cell to show the HTML representation or trust the notebook. <br />On GitHub, the HTML representation is unable to render, please try loading this page with nbviewer.org.</b></div><div class=\"sk-container\" hidden><div class=\"sk-item\"><div class=\"sk-estimator sk-toggleable\"><input class=\"sk-toggleable__control sk-hidden--visually\" id=\"sk-estimator-id-2\" type=\"checkbox\" checked><label for=\"sk-estimator-id-2\" class=\"sk-toggleable__label sk-toggleable__label-arrow\">DecisionTreeClassifier</label><div class=\"sk-toggleable__content\"><pre>DecisionTreeClassifier(random_state=0)</pre></div></div></div></div></div>"
            ],
            "text/plain": [
              "DecisionTreeClassifier(random_state=0)"
            ]
          },
          "execution_count": 109,
          "metadata": {},
          "output_type": "execute_result"
        }
      ],
      "source": [
        "from sklearn.tree import DecisionTreeClassifier\n",
        "clf = DecisionTreeClassifier(random_state=0)\n",
        "clf.fit(X_train, y_train)"
      ]
    },
    {
      "cell_type": "markdown",
      "id": "79b6c02b-484b-477e-a375-632f9b4059c2",
      "metadata": {
        "id": "79b6c02b-484b-477e-a375-632f9b4059c2"
      },
      "source": [
        "## Visualización del árbol de decisión"
      ]
    },
    {
      "cell_type": "code",
      "execution_count": null,
      "id": "0aaf358e-daed-4698-9228-e5825f909b56",
      "metadata": {
        "id": "0aaf358e-daed-4698-9228-e5825f909b56",
        "outputId": "6fbd8ecf-e32a-4dd9-e2fb-79abb6178138"
      },
      "outputs": [
        {
          "name": "stdout",
          "output_type": "stream",
          "text": [
            "Defaulting to user installation because normal site-packages is not writeable\n",
            "Collecting matplotlib\n",
            "  Downloading matplotlib-3.5.2-cp39-cp39-win_amd64.whl (7.2 MB)\n",
            "     ---------------------------------------- 7.2/7.2 MB 20.0 MB/s eta 0:00:00\n",
            "Requirement already satisfied: python-dateutil>=2.7 in c:\\users\\link_\\appdata\\roaming\\python\\python39\\site-packages (from matplotlib) (2.8.2)\n",
            "Requirement already satisfied: numpy>=1.17 in c:\\users\\link_\\appdata\\roaming\\python\\python39\\site-packages (from matplotlib) (1.22.3)\n",
            "Collecting pillow>=6.2.0\n",
            "  Downloading Pillow-9.2.0-cp39-cp39-win_amd64.whl (3.3 MB)\n",
            "     ---------------------------------------- 3.3/3.3 MB 23.3 MB/s eta 0:00:00\n",
            "Requirement already satisfied: packaging>=20.0 in c:\\users\\link_\\appdata\\roaming\\python\\python39\\site-packages (from matplotlib) (21.3)\n",
            "Collecting fonttools>=4.22.0\n",
            "  Downloading fonttools-4.34.4-py3-none-any.whl (944 kB)\n",
            "     ------------------------------------- 944.1/944.1 kB 58.4 MB/s eta 0:00:00\n",
            "Requirement already satisfied: pyparsing>=2.2.1 in c:\\users\\link_\\appdata\\roaming\\python\\python39\\site-packages (from matplotlib) (3.0.8)\n",
            "Collecting cycler>=0.10\n",
            "  Downloading cycler-0.11.0-py3-none-any.whl (6.4 kB)\n",
            "Collecting kiwisolver>=1.0.1\n",
            "  Downloading kiwisolver-1.4.3-cp39-cp39-win_amd64.whl (55 kB)\n",
            "     ---------------------------------------- 55.4/55.4 kB 2.8 MB/s eta 0:00:00\n",
            "Requirement already satisfied: six>=1.5 in c:\\users\\link_\\appdata\\roaming\\python\\python39\\site-packages (from python-dateutil>=2.7->matplotlib) (1.16.0)\n",
            "Installing collected packages: pillow, kiwisolver, fonttools, cycler, matplotlib\n",
            "Successfully installed cycler-0.11.0 fonttools-4.34.4 kiwisolver-1.4.3 matplotlib-3.5.2 pillow-9.2.0\n"
          ]
        }
      ],
      "source": [
        "!pip install matplotlib\n",
        "from sklearn import tree\n",
        "from matplotlib import pyplot as plt"
      ]
    },
    {
      "cell_type": "code",
      "execution_count": null,
      "id": "4fc1d283-7029-4235-9ba9-02e9e6bd19f4",
      "metadata": {
        "id": "4fc1d283-7029-4235-9ba9-02e9e6bd19f4",
        "outputId": "cdc75580-f9ef-4c41-a7dd-ca9ac4bb5b7a"
      },
      "outputs": [
        {
          "data": {
            "image/png": "[encoded data removed]",
            "text/plain": [
              "<Figure size 432x288 with 1 Axes>"
            ]
          },
          "metadata": {
            "needs_background": "light"
          },
          "output_type": "display_data"
        }
      ],
      "source": [
        "tree.plot_tree(clf)\n",
        "plt.show()"
      ]
    },
    {
      "cell_type": "markdown",
      "id": "2c429114-05c9-42b7-a092-08e257e2fb7b",
      "metadata": {
        "id": "2c429114-05c9-42b7-a092-08e257e2fb7b"
      },
      "source": [
        "## Evaluación del modelo"
      ]
    },
    {
      "cell_type": "code",
      "execution_count": null,
      "id": "75938d65-99d1-4ebf-8fa1-f7508954f9e1",
      "metadata": {
        "id": "75938d65-99d1-4ebf-8fa1-f7508954f9e1"
      },
      "outputs": [],
      "source": [
        "predicciones_modelo = clf.predict(X_test) # con esto aplicamos el modelo a los datos de prueba "
      ]
    },
    {
      "cell_type": "code",
      "execution_count": null,
      "id": "47445552-6f94-4a5f-acd8-8de0d7c3a6e7",
      "metadata": {
        "id": "47445552-6f94-4a5f-acd8-8de0d7c3a6e7",
        "outputId": "f9a36be5-c35c-44d4-b52a-381f7915d3fe"
      },
      "outputs": [
        {
          "name": "stdout",
          "output_type": "stream",
          "text": [
            "Confusion Matrix : \n",
            " [[14  0  0]\n",
            " [ 0 16  1]\n",
            " [ 0  1 13]]\n",
            "Test accuracy =  0.9555555555555556\n"
          ]
        }
      ],
      "source": [
        "from sklearn.metrics import (confusion_matrix, \n",
        "                           accuracy_score)\n",
        "from sklearn.metrics import ConfusionMatrixDisplay\n",
        "  \n",
        "# confusion matrix\n",
        "cm = confusion_matrix(y_test, predicciones_modelo) \n",
        "print (\"Confusion Matrix : \\n\", cm)\n",
        "\n",
        "\n",
        "# Exactitud de modelo\n",
        "print('Test accuracy = ', accuracy_score(y_test,predicciones_modelo))"
      ]
    }
  ],
  "metadata": {
    "colab": {
      "name": "6_RegLogMysqlML.ipynb",
      "provenance": [],
      "include_colab_link": true
    },
    "kernelspec": {
      "display_name": "Python 3 (ipykernel)",
      "language": "python",
      "name": "python3"
    },
    "language_info": {
      "codemirror_mode": {
        "name": "ipython",
        "version": 3
      },
      "file_extension": ".py",
      "mimetype": "text/x-python",
      "name": "python",
      "nbconvert_exporter": "python",
      "pygments_lexer": "ipython3",
      "version": "3.10.5"
    }
  },
  "nbformat": 4,
  "nbformat_minor": 5
}